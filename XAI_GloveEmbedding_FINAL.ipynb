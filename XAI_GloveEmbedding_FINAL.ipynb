{
 "cells": [
  {
   "cell_type": "markdown",
   "id": "4b39f7e4-e5c1-447f-a0de-d71b225cfa14",
   "metadata": {},
   "source": [
    "#Setup"
   ]
  },
  {
   "cell_type": "code",
   "execution_count": 1,
   "id": "caa83292-176a-41c0-bc30-0cd69f05621a",
   "metadata": {},
   "outputs": [
    {
     "name": "stdout",
     "output_type": "stream",
     "text": [
      "WARNING:tensorflow:From C:\\Users\\Ahmedma\\AppData\\Local\\anaconda3\\Lib\\site-packages\\tf_keras\\src\\losses.py:2976: The name tf.losses.sparse_softmax_cross_entropy is deprecated. Please use tf.compat.v1.losses.sparse_softmax_cross_entropy instead.\n",
      "\n",
      "WARNING:tensorflow:From C:\\Users\\Ahmedma\\AppData\\Local\\anaconda3\\Lib\\site-packages\\tensorflow_probability\\python\\internal\\backend\\numpy\\_utils.py:48: The name tf.logging.TaskLevelStatusMessage is deprecated. Please use tf.compat.v1.logging.TaskLevelStatusMessage instead.\n",
      "\n",
      "WARNING:tensorflow:From C:\\Users\\Ahmedma\\AppData\\Local\\anaconda3\\Lib\\site-packages\\tensorflow_probability\\python\\internal\\backend\\numpy\\_utils.py:48: The name tf.control_flow_v2_enabled is deprecated. Please use tf.compat.v1.control_flow_v2_enabled instead.\n",
      "\n"
     ]
    }
   ],
   "source": [
    "import numpy as np\n",
    "import pandas as pd\n",
    "import matplotlib.pyplot as plt\n",
    "import seaborn as sns\n",
    "import tensorflow as tf\n",
    "import re\n",
    "import os\n",
    "import requests\n",
    "import zipfile\n",
    "\n",
    "import keras\n",
    "\n",
    "from sklearn.model_selection import train_test_split\n",
    "from sklearn.metrics import classification_report, confusion_matrix, accuracy_score, roc_curve, auc\n",
    "from tensorflow.keras.models import Sequential\n",
    "from tensorflow.keras.layers import Embedding, LSTM, Dense, Bidirectional, SpatialDropout1D, GlobalAveragePooling1D, Layer\n",
    "from tensorflow.keras.preprocessing.sequence import pad_sequences\n",
    "from tensorflow.keras.initializers import Constant\n",
    "from nltk.corpus import stopwords\n",
    "from nltk.tokenize import word_tokenize\n",
    "from nltk.stem import WordNetLemmatizer\n",
    "\n",
    "import lime.lime_text\n",
    "import shap\n",
    "from captum.attr import IntegratedGradients\n",
    "import tensorflow_probability as tfp\n",
    "\n",
    "sns.set(style='whitegrid', palette='muted', font_scale=1.2)\n"
   ]
  },
  {
   "cell_type": "markdown",
   "id": "2b5d8ce1-ea16-4691-a814-e68721c90af7",
   "metadata": {},
   "source": [
    "#Data Loading and Preprocessing"
   ]
  },
  {
   "cell_type": "code",
   "execution_count": 2,
   "id": "c32cc99f-3b6f-4d16-8261-22488588a5c4",
   "metadata": {},
   "outputs": [],
   "source": [
    "# Load data\n",
    "df = pd.read_csv('Training_Essay_Data.csv', encoding='latin1')\n",
    "\n",
    "\n"
   ]
  },
  {
   "cell_type": "code",
   "execution_count": 3,
   "id": "be3b7400-27e1-4d24-a9e4-e0c1abbd1d3c",
   "metadata": {},
   "outputs": [],
   "source": [
    "# Data Preprocessing and Cleaning\n",
    "def clean_text(text):\n",
    "    text = re.sub(r'[^a-zA-Z\\s]', '', text)\n",
    "    text = text.lower()\n",
    "    return text\n"
   ]
  },
  {
   "cell_type": "code",
   "execution_count": 4,
   "id": "64daf1a7-c7fd-4a1b-97dc-e357794043a2",
   "metadata": {},
   "outputs": [],
   "source": [
    "df['clean_text'] = df['text'].apply(clean_text)\n",
    "\n"
   ]
  },
  {
   "cell_type": "code",
   "execution_count": 5,
   "id": "ae8c7f20-c0af-4b58-a1c3-2baf37096be1",
   "metadata": {},
   "outputs": [],
   "source": [
    "# Tokenization, stopwords removal, and lemmatization\n",
    "stop_words = set(stopwords.words('english'))\n",
    "lemmatizer = WordNetLemmatizer()\n",
    "\n"
   ]
  },
  {
   "cell_type": "code",
   "execution_count": 6,
   "id": "12c396a8-a232-4628-9998-c6020482e6df",
   "metadata": {},
   "outputs": [],
   "source": [
    "def preprocess_text(text):\n",
    "    tokens = word_tokenize(text)\n",
    "    tokens = [word for word in tokens if word not in stop_words]\n",
    "    tokens = [lemmatizer.lemmatize(word) for word in tokens]\n",
    "    return tokens\n",
    "\n"
   ]
  },
  {
   "cell_type": "code",
   "execution_count": 7,
   "id": "c7f2040a-57bc-49a0-9870-e9bbb139c468",
   "metadata": {},
   "outputs": [],
   "source": [
    "df['tokens'] = df['clean_text'].apply(preprocess_text)\n"
   ]
  },
  {
   "cell_type": "markdown",
   "id": "0268a77a-318a-4f20-80f8-274de74cc56c",
   "metadata": {},
   "source": [
    "#Load Glove Embedding"
   ]
  },
  {
   "cell_type": "code",
   "execution_count": 8,
   "id": "be94e91e-6f90-4557-8bf3-52f233b151d7",
   "metadata": {},
   "outputs": [],
   "source": [
    "# Download and unzip GloVe embeddings\n",
    "url = 'http://nlp.stanford.edu/data/glove.6B.zip'\n",
    "filename = 'glove.6B.zip'\n",
    "\n",
    "response = requests.get(url)\n",
    "with open(filename, 'wb') as f:\n",
    "    f.write(response.content)\n",
    "\n",
    "with zipfile.ZipFile(filename, 'r') as zip_ref:\n",
    "    zip_ref.extractall('glove.6B')\n"
   ]
  },
  {
   "cell_type": "code",
   "execution_count": 9,
   "id": "432d8543-ce07-4477-8377-cba35040097f",
   "metadata": {},
   "outputs": [],
   "source": [
    "\n",
    "# Load GloVe embeddings\n",
    "def load_glove_embeddings(filepath, embedding_dim=100):\n",
    "    glove_embeddings = {}\n",
    "    with open(filepath, 'r', encoding='utf-8') as f:\n",
    "        for line in f:\n",
    "            values = line.split()\n",
    "            word = values[0]\n",
    "            vector = np.asarray(values[1:], dtype='float32')\n",
    "            glove_embeddings[word] = vector\n",
    "    return glove_embeddings\n"
   ]
  },
  {
   "cell_type": "code",
   "execution_count": 10,
   "id": "01a3f9e3-ce17-4fd4-bbc6-973c04cef48b",
   "metadata": {},
   "outputs": [],
   "source": [
    "\n",
    "glove_filepath = 'glove.6B/glove.6B.100d.txt'\n",
    "glove_embeddings = load_glove_embeddings(glove_filepath, embedding_dim=100)\n"
   ]
  },
  {
   "cell_type": "markdown",
   "id": "1f1d26e2-f470-41a0-832c-d7e0ae615589",
   "metadata": {},
   "source": [
    "#Data Preparation"
   ]
  },
  {
   "cell_type": "code",
   "execution_count": 11,
   "id": "429a5b83-ed75-4afc-892f-a18a93721132",
   "metadata": {},
   "outputs": [],
   "source": [
    "# Convert text data into numerical representations\n",
    "max_seq_length = 100\n",
    "tokenizer = tf.keras.preprocessing.text.Tokenizer()\n",
    "tokenizer.fit_on_texts(df['clean_text'])\n",
    "X_seq = tokenizer.texts_to_sequences(df['clean_text'])\n",
    "X_pad = pad_sequences(X_seq, maxlen=max_seq_length)\n",
    "\n",
    "\n"
   ]
  },
  {
   "cell_type": "code",
   "execution_count": 12,
   "id": "59742495-d374-40fc-a50c-7cd07b5cc411",
   "metadata": {},
   "outputs": [],
   "source": [
    "# Define features (X) and target variable (y)\n",
    "X = X_pad\n",
    "y = df['generated']\n"
   ]
  },
  {
   "cell_type": "code",
   "execution_count": 13,
   "id": "7df4f4b4-35a8-45c4-acbb-34fead75199b",
   "metadata": {},
   "outputs": [],
   "source": [
    "# Split the dataset into training, validation, and test sets\n",
    "X_train, X_temp, y_train, y_temp = train_test_split(X, y, test_size=0.3, random_state=42)\n",
    "X_val, X_test, y_val, y_test = train_test_split(X_temp, y_temp, test_size=0.5, random_state=42)\n"
   ]
  },
  {
   "cell_type": "markdown",
   "id": "2d320367-28f0-4ba9-800b-7efc7a4051c5",
   "metadata": {},
   "source": [
    "#Attention Layer Defintion"
   ]
  },
  {
   "cell_type": "code",
   "execution_count": 14,
   "id": "f183cdf7-04db-4d9d-8b1c-26a6809b3a7c",
   "metadata": {},
   "outputs": [],
   "source": [
    "# Define the Attention layer\n",
    "class Attention(Layer):\n",
    "    def __init__(self, return_sequences=True):\n",
    "        super(Attention, self).__init__()\n",
    "        self.return_sequences = return_sequences\n",
    "\n",
    "    def build(self, input_shape):\n",
    "        self.W = self.add_weight(name=\"att_weight\", shape=(input_shape[-1], 1), initializer=\"normal\")\n",
    "        self.b = self.add_weight(name=\"att_bias\", shape=(input_shape[1], 1), initializer=\"zeros\")\n",
    "        super(Attention, self).build(input_shape)\n",
    "\n",
    "    def call(self, x):\n",
    "        e = tf.keras.activations.tanh(tf.keras.backend.dot(x, self.W) + self.b)\n",
    "        a = tf.keras.activations.softmax(e, axis=1)\n",
    "        output = x * a\n",
    "        if self.return_sequences:\n",
    "            return output\n",
    "        return tf.keras.backend.sum(output, axis=1)\n"
   ]
  },
  {
   "cell_type": "markdown",
   "id": "06467f1e-be29-4c5a-8f42-b51f930d5332",
   "metadata": {},
   "source": [
    "#Create Embedding Matrix"
   ]
  },
  {
   "cell_type": "code",
   "execution_count": 15,
   "id": "28663ccb-c70e-4aa7-86e0-9afe757e29f9",
   "metadata": {},
   "outputs": [],
   "source": [
    "# Function to create embedding matrix\n",
    "def create_embedding_matrix(tokenizer, embeddings_index, embedding_dim):\n",
    "    embedding_matrix = np.zeros((len(tokenizer.word_index) + 1, embedding_dim))\n",
    "    for word, i in tokenizer.word_index.items():\n",
    "        embedding_vector = embeddings_index.get(word)\n",
    "        if embedding_vector is not None:\n",
    "            embedding_matrix[i] = embedding_vector\n",
    "    return embedding_matrix\n",
    "\n"
   ]
  },
  {
   "cell_type": "code",
   "execution_count": 16,
   "id": "07c2e4c2-ba66-42d3-a40c-b9737cb00537",
   "metadata": {},
   "outputs": [],
   "source": [
    "# Prepare embedding matrix for GloVe\n",
    "embedding_matrix_glove = create_embedding_matrix(tokenizer, glove_embeddings, 100)\n"
   ]
  },
  {
   "cell_type": "markdown",
   "id": "be294276-a90a-4b9a-b9cc-f4108fac6ae3",
   "metadata": {},
   "source": [
    "#Define and Train LSTM Model"
   ]
  },
  {
   "cell_type": "code",
   "execution_count": 17,
   "id": "1a6d8d74-f74e-46d5-b2ae-503b1cdb3c5d",
   "metadata": {},
   "outputs": [],
   "source": [
    "# Define LSTM model with embeddings and attention\n",
    "def create_lstm_model(input_dim, output_dim, max_sequence_length, embedding_matrix):\n",
    "    model = Sequential()\n",
    "    model.add(Embedding(input_dim, output_dim, input_length=max_sequence_length,\n",
    "                        embeddings_initializer=Constant(embedding_matrix),\n",
    "                        trainable=False))\n",
    "    model.add(SpatialDropout1D(0.2))\n",
    "    model.add(Bidirectional(LSTM(64, return_sequences=True)))\n",
    "    model.add(Attention(return_sequences=True))\n",
    "    model.add(GlobalAveragePooling1D())\n",
    "    model.add(Dense(1, activation='sigmoid'))\n",
    "    model.compile(optimizer='adam', loss='binary_crossentropy', metrics=['accuracy', Precision(), Recall(), AUC()])\n",
    "    return model\n",
    "\n"
   ]
  },
  {
   "cell_type": "code",
   "execution_count": 19,
   "id": "50a1122d-496e-45bb-a2da-dc67ad02170d",
   "metadata": {},
   "outputs": [],
   "source": [
    "from tensorflow.keras.metrics import Precision, Recall, AUC"
   ]
  },
  {
   "cell_type": "code",
   "execution_count": 20,
   "id": "f58f7b18-6ede-414f-bd0e-10796b1dabb2",
   "metadata": {},
   "outputs": [],
   "source": [
    "lstm_model_glove = create_lstm_model(len(tokenizer.word_index) + 1, 100, max_seq_length, embedding_matrix_glove)\n",
    "\n"
   ]
  },
  {
   "cell_type": "code",
   "execution_count": 21,
   "id": "65056355-4bb8-4fd7-b4f6-ff8bc92df54e",
   "metadata": {},
   "outputs": [
    {
     "name": "stdout",
     "output_type": "stream",
     "text": [
      "Epoch 1/40\n",
      "\u001b[1m603/603\u001b[0m \u001b[32m━━━━━━━━━━━━━━━━━━━━\u001b[0m\u001b[37m\u001b[0m \u001b[1m31s\u001b[0m 39ms/step - accuracy: 0.6676 - auc: 0.7127 - loss: 0.6390 - precision: 0.7593 - recall: 0.1106 - val_accuracy: 0.6938 - val_auc: 0.9004 - val_loss: 0.5542 - val_precision: 0.9545 - val_recall: 0.1674\n",
      "Epoch 2/40\n",
      "\u001b[1m603/603\u001b[0m \u001b[32m━━━━━━━━━━━━━━━━━━━━\u001b[0m\u001b[37m\u001b[0m \u001b[1m22s\u001b[0m 36ms/step - accuracy: 0.7234 - auc: 0.8635 - loss: 0.5377 - precision: 0.8898 - recall: 0.2621 - val_accuracy: 0.8824 - val_auc: 0.9329 - val_loss: 0.4469 - val_precision: 0.9235 - val_recall: 0.7382\n",
      "Epoch 3/40\n",
      "\u001b[1m603/603\u001b[0m \u001b[32m━━━━━━━━━━━━━━━━━━━━\u001b[0m\u001b[37m\u001b[0m \u001b[1m21s\u001b[0m 35ms/step - accuracy: 0.8722 - auc: 0.9152 - loss: 0.4361 - precision: 0.8820 - recall: 0.7502 - val_accuracy: 0.8993 - val_auc: 0.9555 - val_loss: 0.3368 - val_precision: 0.8647 - val_recall: 0.8578\n",
      "Epoch 4/40\n",
      "\u001b[1m603/603\u001b[0m \u001b[32m━━━━━━━━━━━━━━━━━━━━\u001b[0m\u001b[37m\u001b[0m \u001b[1m21s\u001b[0m 35ms/step - accuracy: 0.8973 - auc: 0.9442 - loss: 0.3461 - precision: 0.8960 - recall: 0.8124 - val_accuracy: 0.9003 - val_auc: 0.9631 - val_loss: 0.2934 - val_precision: 0.8217 - val_recall: 0.9276\n",
      "Epoch 5/40\n",
      "\u001b[1m603/603\u001b[0m \u001b[32m━━━━━━━━━━━━━━━━━━━━\u001b[0m\u001b[37m\u001b[0m \u001b[1m22s\u001b[0m 36ms/step - accuracy: 0.9098 - auc: 0.9547 - loss: 0.2870 - precision: 0.9048 - recall: 0.8405 - val_accuracy: 0.9342 - val_auc: 0.9744 - val_loss: 0.2258 - val_precision: 0.9208 - val_recall: 0.8963\n",
      "Epoch 6/40\n",
      "\u001b[1m603/603\u001b[0m \u001b[32m━━━━━━━━━━━━━━━━━━━━\u001b[0m\u001b[37m\u001b[0m \u001b[1m21s\u001b[0m 35ms/step - accuracy: 0.9159 - auc: 0.9633 - loss: 0.2565 - precision: 0.9138 - recall: 0.8480 - val_accuracy: 0.9434 - val_auc: 0.9777 - val_loss: 0.1966 - val_precision: 0.9268 - val_recall: 0.9169\n",
      "Epoch 7/40\n",
      "\u001b[1m603/603\u001b[0m \u001b[32m━━━━━━━━━━━━━━━━━━━━\u001b[0m\u001b[37m\u001b[0m \u001b[1m22s\u001b[0m 36ms/step - accuracy: 0.9197 - auc: 0.9686 - loss: 0.2277 - precision: 0.9163 - recall: 0.8570 - val_accuracy: 0.9436 - val_auc: 0.9807 - val_loss: 0.1811 - val_precision: 0.9257 - val_recall: 0.9189\n",
      "Epoch 8/40\n",
      "\u001b[1m603/603\u001b[0m \u001b[32m━━━━━━━━━━━━━━━━━━━━\u001b[0m\u001b[37m\u001b[0m \u001b[1m21s\u001b[0m 35ms/step - accuracy: 0.9313 - auc: 0.9737 - loss: 0.2021 - precision: 0.9266 - recall: 0.8793 - val_accuracy: 0.9441 - val_auc: 0.9806 - val_loss: 0.1689 - val_precision: 0.9147 - val_recall: 0.9336\n",
      "Epoch 9/40\n",
      "\u001b[1m603/603\u001b[0m \u001b[32m━━━━━━━━━━━━━━━━━━━━\u001b[0m\u001b[37m\u001b[0m \u001b[1m21s\u001b[0m 35ms/step - accuracy: 0.9330 - auc: 0.9744 - loss: 0.1899 - precision: 0.9216 - recall: 0.8884 - val_accuracy: 0.9509 - val_auc: 0.9842 - val_loss: 0.1448 - val_precision: 0.9306 - val_recall: 0.9349\n",
      "Epoch 10/40\n",
      "\u001b[1m603/603\u001b[0m \u001b[32m━━━━━━━━━━━━━━━━━━━━\u001b[0m\u001b[37m\u001b[0m \u001b[1m21s\u001b[0m 35ms/step - accuracy: 0.9410 - auc: 0.9790 - loss: 0.1708 - precision: 0.9287 - recall: 0.9065 - val_accuracy: 0.9557 - val_auc: 0.9855 - val_loss: 0.1417 - val_precision: 0.9395 - val_recall: 0.9389\n",
      "Epoch 11/40\n",
      "\u001b[1m603/603\u001b[0m \u001b[32m━━━━━━━━━━━━━━━━━━━━\u001b[0m\u001b[37m\u001b[0m \u001b[1m21s\u001b[0m 36ms/step - accuracy: 0.9465 - auc: 0.9808 - loss: 0.1595 - precision: 0.9442 - recall: 0.9064 - val_accuracy: 0.9545 - val_auc: 0.9862 - val_loss: 0.1383 - val_precision: 0.9208 - val_recall: 0.9575\n",
      "Epoch 12/40\n",
      "\u001b[1m603/603\u001b[0m \u001b[32m━━━━━━━━━━━━━━━━━━━━\u001b[0m\u001b[37m\u001b[0m \u001b[1m22s\u001b[0m 36ms/step - accuracy: 0.9486 - auc: 0.9834 - loss: 0.1484 - precision: 0.9400 - recall: 0.9162 - val_accuracy: 0.9608 - val_auc: 0.9886 - val_loss: 0.1198 - val_precision: 0.9653 - val_recall: 0.9256\n",
      "Epoch 13/40\n",
      "\u001b[1m603/603\u001b[0m \u001b[32m━━━━━━━━━━━━━━━━━━━━\u001b[0m\u001b[37m\u001b[0m \u001b[1m21s\u001b[0m 35ms/step - accuracy: 0.9539 - auc: 0.9849 - loss: 0.1389 - precision: 0.9549 - recall: 0.9177 - val_accuracy: 0.9615 - val_auc: 0.9887 - val_loss: 0.1146 - val_precision: 0.9616 - val_recall: 0.9316\n",
      "Epoch 14/40\n",
      "\u001b[1m603/603\u001b[0m \u001b[32m━━━━━━━━━━━━━━━━━━━━\u001b[0m\u001b[37m\u001b[0m \u001b[1m21s\u001b[0m 36ms/step - accuracy: 0.9527 - auc: 0.9848 - loss: 0.1444 - precision: 0.9513 - recall: 0.9157 - val_accuracy: 0.9639 - val_auc: 0.9898 - val_loss: 0.1174 - val_precision: 0.9728 - val_recall: 0.9269\n",
      "Epoch 15/40\n",
      "\u001b[1m603/603\u001b[0m \u001b[32m━━━━━━━━━━━━━━━━━━━━\u001b[0m\u001b[37m\u001b[0m \u001b[1m22s\u001b[0m 37ms/step - accuracy: 0.9562 - auc: 0.9886 - loss: 0.1236 - precision: 0.9548 - recall: 0.9217 - val_accuracy: 0.9637 - val_auc: 0.9897 - val_loss: 0.1060 - val_precision: 0.9618 - val_recall: 0.9375\n",
      "Epoch 16/40\n",
      "\u001b[1m603/603\u001b[0m \u001b[32m━━━━━━━━━━━━━━━━━━━━\u001b[0m\u001b[37m\u001b[0m \u001b[1m22s\u001b[0m 37ms/step - accuracy: 0.9599 - auc: 0.9890 - loss: 0.1163 - precision: 0.9572 - recall: 0.9308 - val_accuracy: 0.9668 - val_auc: 0.9907 - val_loss: 0.1019 - val_precision: 0.9717 - val_recall: 0.9362\n",
      "Epoch 17/40\n",
      "\u001b[1m603/603\u001b[0m \u001b[32m━━━━━━━━━━━━━━━━━━━━\u001b[0m\u001b[37m\u001b[0m \u001b[1m21s\u001b[0m 35ms/step - accuracy: 0.9662 - auc: 0.9896 - loss: 0.1066 - precision: 0.9636 - recall: 0.9411 - val_accuracy: 0.9693 - val_auc: 0.9916 - val_loss: 0.1001 - val_precision: 0.9719 - val_recall: 0.9429\n",
      "Epoch 18/40\n",
      "\u001b[1m603/603\u001b[0m \u001b[32m━━━━━━━━━━━━━━━━━━━━\u001b[0m\u001b[37m\u001b[0m \u001b[1m22s\u001b[0m 36ms/step - accuracy: 0.9657 - auc: 0.9916 - loss: 0.1013 - precision: 0.9599 - recall: 0.9444 - val_accuracy: 0.9678 - val_auc: 0.9911 - val_loss: 0.0965 - val_precision: 0.9641 - val_recall: 0.9468\n",
      "Epoch 19/40\n",
      "\u001b[1m603/603\u001b[0m \u001b[32m━━━━━━━━━━━━━━━━━━━━\u001b[0m\u001b[37m\u001b[0m \u001b[1m21s\u001b[0m 35ms/step - accuracy: 0.9669 - auc: 0.9913 - loss: 0.1017 - precision: 0.9636 - recall: 0.9445 - val_accuracy: 0.9690 - val_auc: 0.9915 - val_loss: 0.0961 - val_precision: 0.9612 - val_recall: 0.9535\n",
      "Epoch 20/40\n",
      "\u001b[1m603/603\u001b[0m \u001b[32m━━━━━━━━━━━━━━━━━━━━\u001b[0m\u001b[37m\u001b[0m \u001b[1m22s\u001b[0m 36ms/step - accuracy: 0.9696 - auc: 0.9922 - loss: 0.0962 - precision: 0.9677 - recall: 0.9472 - val_accuracy: 0.9680 - val_auc: 0.9926 - val_loss: 0.0951 - val_precision: 0.9449 - val_recall: 0.9688\n",
      "Epoch 21/40\n",
      "\u001b[1m603/603\u001b[0m \u001b[32m━━━━━━━━━━━━━━━━━━━━\u001b[0m\u001b[37m\u001b[0m \u001b[1m22s\u001b[0m 36ms/step - accuracy: 0.9703 - auc: 0.9930 - loss: 0.0886 - precision: 0.9665 - recall: 0.9499 - val_accuracy: 0.9705 - val_auc: 0.9922 - val_loss: 0.0897 - val_precision: 0.9663 - val_recall: 0.9522\n",
      "Epoch 22/40\n",
      "\u001b[1m603/603\u001b[0m \u001b[32m━━━━━━━━━━━━━━━━━━━━\u001b[0m\u001b[37m\u001b[0m \u001b[1m21s\u001b[0m 35ms/step - accuracy: 0.9688 - auc: 0.9933 - loss: 0.0881 - precision: 0.9626 - recall: 0.9503 - val_accuracy: 0.9729 - val_auc: 0.9933 - val_loss: 0.0859 - val_precision: 0.9603 - val_recall: 0.9654\n",
      "Epoch 23/40\n",
      "\u001b[1m603/603\u001b[0m \u001b[32m━━━━━━━━━━━━━━━━━━━━\u001b[0m\u001b[37m\u001b[0m \u001b[1m22s\u001b[0m 36ms/step - accuracy: 0.9745 - auc: 0.9945 - loss: 0.0779 - precision: 0.9705 - recall: 0.9593 - val_accuracy: 0.9724 - val_auc: 0.9923 - val_loss: 0.0835 - val_precision: 0.9715 - val_recall: 0.9522\n",
      "Epoch 24/40\n",
      "\u001b[1m603/603\u001b[0m \u001b[32m━━━━━━━━━━━━━━━━━━━━\u001b[0m\u001b[37m\u001b[0m \u001b[1m21s\u001b[0m 35ms/step - accuracy: 0.9761 - auc: 0.9935 - loss: 0.0798 - precision: 0.9733 - recall: 0.9610 - val_accuracy: 0.9680 - val_auc: 0.9930 - val_loss: 0.0927 - val_precision: 0.9490 - val_recall: 0.9641\n",
      "Epoch 25/40\n",
      "\u001b[1m603/603\u001b[0m \u001b[32m━━━━━━━━━━━━━━━━━━━━\u001b[0m\u001b[37m\u001b[0m \u001b[1m21s\u001b[0m 35ms/step - accuracy: 0.9753 - auc: 0.9950 - loss: 0.0766 - precision: 0.9733 - recall: 0.9587 - val_accuracy: 0.9705 - val_auc: 0.9938 - val_loss: 0.0851 - val_precision: 0.9733 - val_recall: 0.9449\n",
      "Epoch 26/40\n",
      "\u001b[1m603/603\u001b[0m \u001b[32m━━━━━━━━━━━━━━━━━━━━\u001b[0m\u001b[37m\u001b[0m \u001b[1m21s\u001b[0m 36ms/step - accuracy: 0.9770 - auc: 0.9952 - loss: 0.0709 - precision: 0.9755 - recall: 0.9607 - val_accuracy: 0.9717 - val_auc: 0.9940 - val_loss: 0.0816 - val_precision: 0.9560 - val_recall: 0.9668\n",
      "Epoch 27/40\n",
      "\u001b[1m603/603\u001b[0m \u001b[32m━━━━━━━━━━━━━━━━━━━━\u001b[0m\u001b[37m\u001b[0m \u001b[1m21s\u001b[0m 35ms/step - accuracy: 0.9764 - auc: 0.9954 - loss: 0.0729 - precision: 0.9754 - recall: 0.9597 - val_accuracy: 0.9731 - val_auc: 0.9940 - val_loss: 0.0781 - val_precision: 0.9678 - val_recall: 0.9581\n",
      "Epoch 28/40\n",
      "\u001b[1m603/603\u001b[0m \u001b[32m━━━━━━━━━━━━━━━━━━━━\u001b[0m\u001b[37m\u001b[0m \u001b[1m22s\u001b[0m 36ms/step - accuracy: 0.9784 - auc: 0.9968 - loss: 0.0625 - precision: 0.9754 - recall: 0.9639 - val_accuracy: 0.9712 - val_auc: 0.9952 - val_loss: 0.0795 - val_precision: 0.9488 - val_recall: 0.9734\n",
      "Epoch 29/40\n",
      "\u001b[1m603/603\u001b[0m \u001b[32m━━━━━━━━━━━━━━━━━━━━\u001b[0m\u001b[37m\u001b[0m \u001b[1m22s\u001b[0m 36ms/step - accuracy: 0.9792 - auc: 0.9963 - loss: 0.0632 - precision: 0.9739 - recall: 0.9679 - val_accuracy: 0.9743 - val_auc: 0.9940 - val_loss: 0.0820 - val_precision: 0.9794 - val_recall: 0.9495\n",
      "Epoch 30/40\n",
      "\u001b[1m603/603\u001b[0m \u001b[32m━━━━━━━━━━━━━━━━━━━━\u001b[0m\u001b[37m\u001b[0m \u001b[1m21s\u001b[0m 35ms/step - accuracy: 0.9775 - auc: 0.9954 - loss: 0.0682 - precision: 0.9753 - recall: 0.9632 - val_accuracy: 0.9782 - val_auc: 0.9954 - val_loss: 0.0726 - val_precision: 0.9777 - val_recall: 0.9621\n",
      "Epoch 31/40\n",
      "\u001b[1m603/603\u001b[0m \u001b[32m━━━━━━━━━━━━━━━━━━━━\u001b[0m\u001b[37m\u001b[0m \u001b[1m22s\u001b[0m 36ms/step - accuracy: 0.9807 - auc: 0.9965 - loss: 0.0585 - precision: 0.9772 - recall: 0.9696 - val_accuracy: 0.9753 - val_auc: 0.9947 - val_loss: 0.0773 - val_precision: 0.9588 - val_recall: 0.9741\n",
      "Epoch 32/40\n",
      "\u001b[1m603/603\u001b[0m \u001b[32m━━━━━━━━━━━━━━━━━━━━\u001b[0m\u001b[37m\u001b[0m \u001b[1m22s\u001b[0m 36ms/step - accuracy: 0.9839 - auc: 0.9973 - loss: 0.0529 - precision: 0.9786 - recall: 0.9769 - val_accuracy: 0.9765 - val_auc: 0.9944 - val_loss: 0.0735 - val_precision: 0.9725 - val_recall: 0.9628\n",
      "Epoch 33/40\n",
      "\u001b[1m603/603\u001b[0m \u001b[32m━━━━━━━━━━━━━━━━━━━━\u001b[0m\u001b[37m\u001b[0m \u001b[1m21s\u001b[0m 36ms/step - accuracy: 0.9833 - auc: 0.9974 - loss: 0.0502 - precision: 0.9809 - recall: 0.9736 - val_accuracy: 0.9763 - val_auc: 0.9953 - val_loss: 0.0713 - val_precision: 0.9681 - val_recall: 0.9668\n",
      "Epoch 34/40\n",
      "\u001b[1m603/603\u001b[0m \u001b[32m━━━━━━━━━━━━━━━━━━━━\u001b[0m\u001b[37m\u001b[0m \u001b[1m22s\u001b[0m 36ms/step - accuracy: 0.9821 - auc: 0.9973 - loss: 0.0537 - precision: 0.9804 - recall: 0.9706 - val_accuracy: 0.9760 - val_auc: 0.9947 - val_loss: 0.0741 - val_precision: 0.9625 - val_recall: 0.9721\n",
      "Epoch 35/40\n",
      "\u001b[1m603/603\u001b[0m \u001b[32m━━━━━━━━━━━━━━━━━━━━\u001b[0m\u001b[37m\u001b[0m \u001b[1m22s\u001b[0m 36ms/step - accuracy: 0.9814 - auc: 0.9972 - loss: 0.0563 - precision: 0.9789 - recall: 0.9697 - val_accuracy: 0.9748 - val_auc: 0.9946 - val_loss: 0.0805 - val_precision: 0.9575 - val_recall: 0.9741\n",
      "Epoch 36/40\n",
      "\u001b[1m603/603\u001b[0m \u001b[32m━━━━━━━━━━━━━━━━━━━━\u001b[0m\u001b[37m\u001b[0m \u001b[1m22s\u001b[0m 36ms/step - accuracy: 0.9788 - auc: 0.9964 - loss: 0.0634 - precision: 0.9793 - recall: 0.9619 - val_accuracy: 0.9765 - val_auc: 0.9951 - val_loss: 0.0731 - val_precision: 0.9770 - val_recall: 0.9581\n",
      "Epoch 37/40\n",
      "\u001b[1m603/603\u001b[0m \u001b[32m━━━━━━━━━━━━━━━━━━━━\u001b[0m\u001b[37m\u001b[0m \u001b[1m22s\u001b[0m 36ms/step - accuracy: 0.9861 - auc: 0.9977 - loss: 0.0485 - precision: 0.9866 - recall: 0.9750 - val_accuracy: 0.9760 - val_auc: 0.9952 - val_loss: 0.0754 - val_precision: 0.9808 - val_recall: 0.9528\n",
      "Epoch 38/40\n",
      "\u001b[1m603/603\u001b[0m \u001b[32m━━━━━━━━━━━━━━━━━━━━\u001b[0m\u001b[37m\u001b[0m \u001b[1m22s\u001b[0m 36ms/step - accuracy: 0.9850 - auc: 0.9984 - loss: 0.0437 - precision: 0.9839 - recall: 0.9745 - val_accuracy: 0.9712 - val_auc: 0.9948 - val_loss: 0.0845 - val_precision: 0.9437 - val_recall: 0.9794\n",
      "Epoch 39/40\n",
      "\u001b[1m603/603\u001b[0m \u001b[32m━━━━━━━━━━━━━━━━━━━━\u001b[0m\u001b[37m\u001b[0m \u001b[1m21s\u001b[0m 35ms/step - accuracy: 0.9847 - auc: 0.9983 - loss: 0.0439 - precision: 0.9821 - recall: 0.9761 - val_accuracy: 0.9797 - val_auc: 0.9945 - val_loss: 0.0704 - val_precision: 0.9791 - val_recall: 0.9648\n",
      "Epoch 40/40\n",
      "\u001b[1m603/603\u001b[0m \u001b[32m━━━━━━━━━━━━━━━━━━━━\u001b[0m\u001b[37m\u001b[0m \u001b[1m21s\u001b[0m 35ms/step - accuracy: 0.9863 - auc: 0.9979 - loss: 0.0460 - precision: 0.9841 - recall: 0.9779 - val_accuracy: 0.9797 - val_auc: 0.9949 - val_loss: 0.0731 - val_precision: 0.9746 - val_recall: 0.9694\n"
     ]
    }
   ],
   "source": [
    "# Train the LSTM model with GloVe embeddings\n",
    "history_glove = lstm_model_glove.fit(X_train, y_train, validation_data=(X_val, y_val), epochs=40, batch_size=32)\n"
   ]
  },
  {
   "cell_type": "markdown",
   "id": "282bbfe8-534c-4ba3-a434-b193e15b338a",
   "metadata": {},
   "source": [
    "#Evaluate Model"
   ]
  },
  {
   "cell_type": "code",
   "execution_count": 22,
   "id": "ac9ddc15-88a6-4a2c-992a-720ec7202a64",
   "metadata": {},
   "outputs": [
    {
     "name": "stdout",
     "output_type": "stream",
     "text": [
      "\u001b[1m130/130\u001b[0m \u001b[32m━━━━━━━━━━━━━━━━━━━━\u001b[0m\u001b[37m\u001b[0m \u001b[1m2s\u001b[0m 16ms/step\n",
      "LSTM Model Test Accuracy: 0.98\n",
      "              precision    recall  f1-score   support\n",
      "\n",
      "           0       0.98      0.99      0.98      2608\n",
      "           1       0.98      0.96      0.97      1523\n",
      "\n",
      "    accuracy                           0.98      4131\n",
      "   macro avg       0.98      0.97      0.98      4131\n",
      "weighted avg       0.98      0.98      0.98      4131\n",
      "\n"
     ]
    }
   ],
   "source": [
    "# Evaluate the LSTM model on the test set\n",
    "y_pred_nn = (lstm_model_glove.predict(X_test) > 0.5).astype(int)\n",
    "print(f\"LSTM Model Test Accuracy: {accuracy_score(y_test, y_pred_nn):.2f}\")\n",
    "print(classification_report(y_test, y_pred_nn))\n",
    "\n",
    "\n"
   ]
  },
  {
   "cell_type": "code",
   "execution_count": 23,
   "id": "9ab8ce8f-60ee-4b55-85bd-5743a6768dbe",
   "metadata": {},
   "outputs": [
    {
     "data": {
      "image/png": "[encoded data removed]",
      "text/plain": [
       "<Figure size 800x600 with 1 Axes>"
      ]
     },
     "metadata": {},
     "output_type": "display_data"
    }
   ],
   "source": [
    "\n",
    "# Confusion Matrix\n",
    "cm = confusion_matrix(y_test, y_pred_nn)\n",
    "plt.figure(figsize=(8, 6))\n",
    "sns.heatmap(cm, annot=True, fmt='d', cmap='Blues', cbar=False)\n",
    "plt.xlabel('Predicted labels')\n",
    "plt.ylabel('True labels')\n",
    "plt.title('Confusion Matrix')\n",
    "plt.show()\n"
   ]
  },
  {
   "cell_type": "code",
   "execution_count": 24,
   "id": "5266af5b-5043-4964-81fa-e0aefb08f12f",
   "metadata": {},
   "outputs": [
    {
     "data": {
      "image/png": "[encoded data removed]",
      "text/plain": [
       "<Figure size 640x480 with 1 Axes>"
      ]
     },
     "metadata": {},
     "output_type": "display_data"
    }
   ],
   "source": [
    "# Plot training history\n",
    "plt.plot(history_glove.history['loss'], label='Train Loss')\n",
    "plt.plot(history_glove.history['val_loss'], label='Validation Loss')\n",
    "plt.xlabel('Epochs')\n",
    "plt.ylabel('Loss')\n",
    "plt.legend()\n",
    "plt.title('Training and Validation Loss')\n",
    "plt.show()\n"
   ]
  },
  {
   "cell_type": "code",
   "execution_count": null,
   "id": "c7a308a6-b1e9-4696-bc50-6c06f7747bb5",
   "metadata": {},
   "outputs": [],
   "source": [
    "# ROC-AUC\n",
    "test_loss, test_acc, test_recall, test_precision, test_auc = lstm_model_glove.evaluate(X_test_pad, y_test)\n",
    "print(\"Test Loss:\", test_loss)\n",
    "print(\"Test Accuracy:\", test_acc)\n",
    "print(\"Test Recall:\", test_recall)\n",
    "print(\"Test Precision:\", test_precision)\n",
    "print(\"Test AUC:\", test_auc)\n"
   ]
  },
  {
   "cell_type": "code",
   "execution_count": 25,
   "id": "b7d82ef5-53af-45d8-bc93-e7028e6ee193",
   "metadata": {},
   "outputs": [
    {
     "name": "stdout",
     "output_type": "stream",
     "text": [
      "\u001b[1m130/130\u001b[0m \u001b[32m━━━━━━━━━━━━━━━━━━━━\u001b[0m\u001b[37m\u001b[0m \u001b[1m2s\u001b[0m 12ms/step\n",
      "Test ROC-AUC: 0.9971288907508188\n"
     ]
    }
   ],
   "source": [
    "# ROC-AUC\n",
    "y_pred_proba = lstm_model_glove.predict(X_test)\n",
    "fpr, tpr, thresholds = roc_curve(y_test, y_pred_proba)\n",
    "roc_auc_value = auc(fpr, tpr)\n",
    "print(\"Test ROC-AUC:\", roc_auc_value)\n"
   ]
  },
  {
   "cell_type": "markdown",
   "id": "11e9f33f-870d-4810-ace0-6a3dddb7fdb3",
   "metadata": {},
   "source": [
    "#Explainability with LIME and SHAP"
   ]
  },
  {
   "cell_type": "code",
   "execution_count": null,
   "id": "a2f4ac01-44f5-4972-bec7-6ac74b60cb60",
   "metadata": {},
   "outputs": [],
   "source": [
    "lstm_model_glove.save('lstm_model_Glove_FINAL00.h5')"
   ]
  },
  {
   "cell_type": "code",
   "execution_count": null,
   "id": "28d1aa0f-e483-4fcc-b9fa-a4d1b7e171d6",
   "metadata": {},
   "outputs": [],
   "source": [
    "keras.saving.save_model(lstm_model_glove, 'lstm_model_Glove_FINAL0.keras')"
   ]
  },
  {
   "cell_type": "code",
   "execution_count": null,
   "id": "aec9e59e-64ec-462d-9a3f-ce634738dc6d",
   "metadata": {},
   "outputs": [],
   "source": [
    "import shap\n",
    "import numpy as np"
   ]
  },
  {
   "cell_type": "code",
   "execution_count": null,
   "id": "0452b535-1d02-40f4-93a4-bcc4046c26bf",
   "metadata": {},
   "outputs": [],
   "source": [
    "# Example: Assuming X_shap is a subset of your validation data\n",
    "X_shap = X_val[:100]  # Selecting first 100 examples for explanation (adjust as needed)\n"
   ]
  },
  {
   "cell_type": "code",
   "execution_count": null,
   "id": "b9342d75-4e7e-4667-846d-1da538ccfb3b",
   "metadata": {},
   "outputs": [],
   "source": [
    "# Example: Wrap your model with a function for SHAP compatibility\n",
    "def model_wrapper(x):\n",
    "    # Adjust x if needed (e.g., reshape for LSTM input)\n",
    "    return lstm_model_glove.predict(x)\n",
    "\n",
    "explainer = shap.Explainer(model_wrapper, X_shap)\n"
   ]
  },
  {
   "cell_type": "code",
   "execution_count": null,
   "id": "150c7e3f-4131-4f3e-b8ec-de1bcf358e32",
   "metadata": {},
   "outputs": [],
   "source": [
    "shap_values = explainer(X_shap)\n"
   ]
  },
  {
   "cell_type": "code",
   "execution_count": null,
   "id": "6e4c74ad-3eb6-4e76-b667-1b69bf4aba88",
   "metadata": {},
   "outputs": [],
   "source": [
    "# Convert dict_keys object to a list\n",
    "feature_names_list = list(tokenizer.word_index.keys())\n"
   ]
  },
  {
   "cell_type": "code",
   "execution_count": null,
   "id": "2302edca-e4bc-4667-ba7d-aab3bdb50d6b",
   "metadata": {},
   "outputs": [],
   "source": [
    "# Example: Summary plot of SHAP values\n",
    "shap.summary_plot(shap_values, X_shap, feature_names=feature_names_list)\n"
   ]
  },
  {
   "cell_type": "code",
   "execution_count": null,
   "id": "89f2296d-eb97-4458-9fca-4b1b5a98bd13",
   "metadata": {},
   "outputs": [],
   "source": [
    "import lime\n",
    "import lime.lime_text\n",
    "from keras.preprocessing.sequence import pad_sequences\n",
    "import numpy as np"
   ]
  },
  {
   "cell_type": "code",
   "execution_count": null,
   "id": "82fd6760-8cee-447a-9579-9e4c7eeea301",
   "metadata": {},
   "outputs": [],
   "source": [
    "# Prepare text data for LIME\n",
    "def prepare_text_for_lime(texts):\n",
    "    sequences = tokenizer.texts_to_sequences(texts)\n",
    "    padded_sequences = pad_sequences(sequences, maxlen=max_seq_length)\n",
    "    return padded_sequences"
   ]
  },
  {
   "cell_type": "code",
   "execution_count": null,
   "id": "d51c0a2a-dc21-49f7-a087-9515b3607e0f",
   "metadata": {},
   "outputs": [],
   "source": [
    "explainer = lime.lime_text.LimeTextExplainer()\n"
   ]
  },
  {
   "cell_type": "code",
   "execution_count": null,
   "id": "722d56f5-70e7-4510-a82a-3eeb1f545f1a",
   "metadata": {},
   "outputs": [],
   "source": [
    "idx = 0  # Change this index to select different examples"
   ]
  },
  {
   "cell_type": "code",
   "execution_count": null,
   "id": "81232b98-42c6-4710-9322-cd623209c298",
   "metadata": {},
   "outputs": [],
   "source": [
    "X_explain_text = df['clean_text'].iloc[idx]  # Adjust as per your data structure\n",
    "X_explain = prepare_text_for_lime([X_explain_text])"
   ]
  },
  {
   "cell_type": "code",
   "execution_count": null,
   "id": "ebfbff81-5c03-41ba-91f5-c423a514c476",
   "metadata": {},
   "outputs": [],
   "source": [
    "def predict_fn(texts):\n",
    "    # Assuming bayesian_lstm_model_word2vec is your Keras model\n",
    "    sequences = tokenizer.texts_to_sequences(texts)\n",
    "    padded_sequences = pad_sequences(sequences, maxlen=max_seq_length)\n",
    "    return lstm_model_glove.predict(padded_sequences)\n",
    "\n"
   ]
  },
  {
   "cell_type": "code",
   "execution_count": null,
   "id": "972d9861-7813-44eb-8767-63c0e5107f3b",
   "metadata": {},
   "outputs": [],
   "source": [
    "import lime\n",
    "import lime.lime_text\n",
    "from lime.lime_text import LimeTextExplainer"
   ]
  },
  {
   "cell_type": "code",
   "execution_count": null,
   "id": "564ca3c6-9525-4d8e-b868-70fe2bdcc47b",
   "metadata": {},
   "outputs": [],
   "source": [
    "# LIME\n",
    "explainer = LimeTextExplainer(class_names=['Non Generated', 'Generated'])\n",
    "idx = 0\n",
    "sample_text = df['clean_text'].iloc[idx]\n"
   ]
  },
  {
   "cell_type": "code",
   "execution_count": null,
   "id": "9a9e148f-f06e-4148-ab40-8686891cb5eb",
   "metadata": {},
   "outputs": [],
   "source": [
    "def predict_proba(texts):\n",
    "    sequences = tokenizer.texts_to_sequences(texts)\n",
    "    padded = tf.keras.preprocessing.sequence.pad_sequences(sequences, maxlen=max_sequence_length, padding='post')\n",
    "    return np.array([[1-p, p] for p in lstm_model_glove.predict(padded).flatten()])\n",
    "\n"
   ]
  },
  {
   "cell_type": "code",
   "execution_count": null,
   "id": "2bf77072-23e2-43f6-b337-360530df435a",
   "metadata": {},
   "outputs": [],
   "source": [
    "input_dim = len(tokenizer.word_index) + 1\n",
    "output_dim = 100\n",
    "max_sequence_length = X_pad.shape[1]"
   ]
  },
  {
   "cell_type": "code",
   "execution_count": null,
   "id": "ba1341d0-339a-417c-a257-1a1eadc49675",
   "metadata": {},
   "outputs": [],
   "source": [
    "exp = explainer.explain_instance(sample_text, predict_proba, num_features=10)\n",
    "exp.show_in_notebook(text=sample_text)\n"
   ]
  },
  {
   "cell_type": "code",
   "execution_count": null,
   "id": "c6436f88-79d9-4bcd-842b-bad9ecd138a3",
   "metadata": {},
   "outputs": [],
   "source": [
    "text_to_explain = df['clean_text'].iloc[idx]"
   ]
  },
  {
   "cell_type": "code",
   "execution_count": null,
   "id": "03dec97f-1428-4cae-ad04-aaa036865895",
   "metadata": {},
   "outputs": [],
   "source": [
    "# Choose an example text to explain\n",
    "idx = 0  # Change this index to select different examples\n",
    "text_to_explain = df['clean_text'].iloc[idx]\n",
    "true_label = df['generated'].iloc[idx]\n"
   ]
  },
  {
   "cell_type": "code",
   "execution_count": null,
   "id": "a917d4e9-1090-4637-9433-0c45f3cb4cff",
   "metadata": {},
   "outputs": [],
   "source": [
    "# For terminal visualization\n",
    "print('Document id: %d' % idx)\n",
    "print('Probability(G):', predict_proba([text_to_explain])[0, 1])\n",
    "print('True class: %s' % true_label)\n",
    "exp.show_in_notebook(text=True)\n"
   ]
  },
  {
   "cell_type": "code",
   "execution_count": null,
   "id": "c6d2012e-e4c2-4cc8-afb9-b49f87211b7d",
   "metadata": {},
   "outputs": [],
   "source": [
    "# Function to predict probabilities for LIME explainer\n",
    "def predict_proba(texts):\n",
    "    seq = tokenizer.texts_to_sequences(texts)\n",
    "    padded = tf.keras.preprocessing.sequence.pad_sequences(seq, maxlen=max_sequence_length)\n",
    "    preds = lstm_model_glove.predict(padded)\n",
    "    return np.hstack((1 - preds, preds))\n"
   ]
  },
  {
   "cell_type": "code",
   "execution_count": null,
   "id": "04545276-25b2-4e57-b42e-cd106f3d7726",
   "metadata": {},
   "outputs": [],
   "source": [
    "# Initialize LIME text explainer\n",
    "explainer = LimeTextExplainer(class_names=['Non Generated', 'Generated'])\n",
    "\n"
   ]
  },
  {
   "cell_type": "code",
   "execution_count": null,
   "id": "4a8ea412-6081-459f-8109-944dc5f9629f",
   "metadata": {},
   "outputs": [],
   "source": [
    "# Choose an example text to explain\n",
    "idx = 0  # Change this index to select different examples\n",
    "text_to_explain = df['clean_text'].iloc[idx]\n",
    "true_label = df['generated'].iloc[idx]\n",
    "\n"
   ]
  },
  {
   "cell_type": "code",
   "execution_count": null,
   "id": "28bf5dc1-5f40-418a-b189-ea6fbba4a149",
   "metadata": {},
   "outputs": [],
   "source": [
    "# Explain the prediction of the example text\n",
    "exp = explainer.explain_instance(text_to_explain, predict_proba, num_features=10)\n"
   ]
  },
  {
   "cell_type": "code",
   "execution_count": null,
   "id": "31d54089-6725-4056-814c-2ca90fb5faa1",
   "metadata": {},
   "outputs": [],
   "source": [
    "# Visualize the explanation\n",
    "exp.show_in_notebook(text=True)\n"
   ]
  },
  {
   "cell_type": "code",
   "execution_count": null,
   "id": "6a0cd549-132b-4f5e-9497-654d2f4752a9",
   "metadata": {},
   "outputs": [],
   "source": [
    "# For terminal visualization\n",
    "print('Document id: %d' % idx)\n",
    "print('Probability(G):', predict_proba([text_to_explain])[0, 1])\n",
    "print('True class: %s' % true_label)\n",
    "exp.show_in_notebook(text=True)\n"
   ]
  },
  {
   "cell_type": "code",
   "execution_count": null,
   "id": "ef26de83-4ddf-4be7-a272-1fec6015e98f",
   "metadata": {},
   "outputs": [],
   "source": [
    "# Plot LIME explanations as a bar chart\n",
    "fig = exp.as_pyplot_figure()\n",
    "plt.show()"
   ]
  },
  {
   "cell_type": "code",
   "execution_count": null,
   "id": "18ca8e51-c181-4e4b-adf7-ced6784c3035",
   "metadata": {},
   "outputs": [],
   "source": [
    "# 1. Feature Importance Bar Chart\n",
    "plt.figure(figsize=(10, 5))\n",
    "exp.as_list()\n",
    "weights = dict(exp.as_list())\n",
    "plt.barh(list(weights.keys()), list(weights.values()), color='b')\n",
    "plt.xlabel('Weight')\n",
    "plt.title('Feature Importance for the given text')\n",
    "plt.show()\n",
    "\n"
   ]
  },
  {
   "cell_type": "code",
   "execution_count": null,
   "id": "2f7dbdb8-2da6-42de-955c-95edc10abae8",
   "metadata": {},
   "outputs": [],
   "source": [
    "# 3. Comparison of Predictions for Multiple Texts\n",
    "texts_to_explain = df['clean_text'].iloc[:5]  # Change to select different examples\n",
    "for i, text in enumerate(texts_to_explain):\n",
    "    exp = explainer.explain_instance(text, predict_proba, num_features=10)\n",
    "    fig = exp.as_pyplot_figure()\n",
    "    plt.title(f'LIME Explanation for Text {i}')\n",
    "    plt.show()"
   ]
  },
  {
   "cell_type": "code",
   "execution_count": null,
   "id": "ab315b31-72e9-4818-9768-d202922738ad",
   "metadata": {},
   "outputs": [],
   "source": [
    "# Additional Visualizations\n",
    "\n",
    "# 1. Feature Importance Bar Chart\n",
    "plt.figure(figsize=(10, 5))\n",
    "exp.as_list()\n",
    "weights = dict(exp.as_list())\n",
    "plt.barh(list(weights.keys()), list(weights.values()), color='b')\n",
    "plt.xlabel('Weight')\n",
    "plt.title('Feature Importance for the given text')\n",
    "plt.show()\n"
   ]
  },
  {
   "cell_type": "code",
   "execution_count": null,
   "id": "79612ddf-a0bf-4b62-81a6-3afbec687d6d",
   "metadata": {},
   "outputs": [],
   "source": [
    "# 3. Comparison of Predictions for Multiple Texts\n",
    "texts_to_explain = df['clean_text'].iloc[:5]  # Change to select different examples\n",
    "for i, text in enumerate(texts_to_explain):\n",
    "    exp = explainer.explain_instance(text, predict_proba, num_features=10)\n",
    "    fig = exp.as_pyplot_figure()\n",
    "    plt.title(f'LIME Explanation for Text {i}')\n",
    "    plt.show()\n"
   ]
  },
  {
   "cell_type": "code",
   "execution_count": null,
   "id": "7bd8f6b9-277d-4f91-b3cc-dec757d293f5",
   "metadata": {},
   "outputs": [],
   "source": [
    "# 5. Distribution of Prediction Probabilities\n",
    "y_pred_proba = lstm_model_glove.predict(X_test_pad)\n",
    "plt.figure(figsize=(10, 5))\n",
    "sns.histplot(y_pred_proba, bins=50, kde=True)\n",
    "plt.xlabel('Predicted Probability of Generated Class')\n",
    "plt.title('Distribution of Prediction Probabilities')\n",
    "plt.show()"
   ]
  },
  {
   "cell_type": "code",
   "execution_count": null,
   "id": "02667744-ce7e-4fa6-90c2-404ac30d9939",
   "metadata": {},
   "outputs": [],
   "source": [
    "import pandas as pd\n",
    "import numpy as np\n",
    "import matplotlib.pyplot as plt\n",
    "import seaborn as sns\n",
    "import re\n",
    "from sklearn.model_selection import train_test_split\n",
    "from sklearn.feature_extraction.text import TfidfVectorizer\n",
    "from sklearn.linear_model import LogisticRegression\n",
    "from sklearn.metrics import accuracy_score, classification_report, confusion_matrix, roc_curve, auc\n",
    "from sklearn.pipeline import Pipeline\n",
    "import tensorflow as tf\n",
    "from tensorflow.keras.models import Sequential\n",
    "from tensorflow.keras.layers import Embedding, LSTM, Dense, Bidirectional, SpatialDropout1D, GlobalAveragePooling1D, Layer\n",
    "from tensorflow.keras.callbacks import EarlyStopping\n",
    "from tensorflow.keras.metrics import Precision, Recall, AUC\n",
    "from nltk.corpus import stopwords\n",
    "from nltk.tokenize import word_tokenize\n",
    "from nltk.stem import WordNetLemmatizer\n",
    "from transformers import BertTokenizer, TFBertForSequenceClassification\n",
    "import torch\n",
    "import lime\n",
    "import lime.lime_text\n",
    "from lime.lime_text import LimeTextExplainer\n",
    "import shap\n",
    "from captum.attr import IntegratedGradients\n",
    "from captum.attr import visualization as viz\n",
    "from transformers import pipeline\n",
    "from tensorflow.keras.models import load_model"
   ]
  },
  {
   "cell_type": "code",
   "execution_count": null,
   "id": "eec6bb69-3937-446c-90ca-bbb63863d5db",
   "metadata": {},
   "outputs": [],
   "source": [
    "word_weights = dict(exp.as_list())"
   ]
  },
  {
   "cell_type": "code",
   "execution_count": null,
   "id": "33125637-e8fe-4d5a-ba59-8660974bc864",
   "metadata": {},
   "outputs": [],
   "source": [
    "# 6. Cumulative Feature Importance\n",
    "sorted_weights = sorted(word_weights.values(), reverse=True)\n",
    "cumulative_importance = np.cumsum(sorted_weights) / np.sum(sorted_weights)\n",
    "plt.figure(figsize=(10, 5))\n",
    "plt.plot(cumulative_importance, marker='o')\n",
    "plt.xlabel('Number of Features')\n",
    "plt.ylabel('Cumulative Importance')\n",
    "plt.title('Cumulative Feature Importance')\n",
    "plt.grid()\n",
    "plt.show()"
   ]
  },
  {
   "cell_type": "code",
   "execution_count": null,
   "id": "0b349716-a946-4316-8343-1f199532047f",
   "metadata": {},
   "outputs": [],
   "source": [
    "# 7. Feature Contribution Bar Chart for Multiple Samples\n",
    "num_samples = 5\n",
    "texts_to_explain = df['clean_text'].iloc[:num_samples]  # Change to select different examples\n",
    "fig, axes = plt.subplots(num_samples, 1, figsize=(10, 15))\n",
    "for i, text in enumerate(texts_to_explain):\n",
    "    exp = explainer.explain_instance(text, predict_proba, num_features=10)\n",
    "    weights = dict(exp.as_list())\n",
    "    axes[i].barh(list(weights.keys()), list(weights.values()), color='b')\n",
    "    axes[i].set_title(f'Sample {i} Feature Importance')\n",
    "    axes[i].set_xlabel('Weight')\n",
    "fig.tight_layout()\n",
    "plt.show()\n"
   ]
  },
  {
   "cell_type": "code",
   "execution_count": null,
   "id": "f933de30-9467-4e4c-8922-1f82ff8fd4c4",
   "metadata": {},
   "outputs": [],
   "source": [
    "# 9. Feature Contribution Distribution\n",
    "feature_contributions = []\n",
    "for text in df['clean_text'].iloc[:100]:  # Change to analyze more samples\n",
    "    exp = explainer.explain_instance(text, predict_proba, num_features=10)\n",
    "    weights = dict(exp.as_list())\n",
    "    feature_contributions.extend(list(weights.values()))\n",
    "\n",
    "plt.figure(figsize=(10, 5))\n",
    "sns.histplot(feature_contributions, bins=50, kde=True)\n",
    "plt.xlabel('Feature Contribution')\n",
    "plt.title('Distribution of Feature Contributions')\n",
    "plt.show()\n"
   ]
  },
  {
   "cell_type": "code",
   "execution_count": null,
   "id": "bb6ac95d-ae2e-4ca3-b12d-4517502f0063",
   "metadata": {},
   "outputs": [],
   "source": [
    "# 10. Partial Dependence Plot\n",
    "def partial_dependence_plot(text, feature_index):\n",
    "    seq = tokenizer.texts_to_sequences([text])[0]\n",
    "    feature_values = np.linspace(0, np.max(seq), num=20).astype(int)\n",
    "    predictions = []\n",
    "    for value in feature_values:\n",
    "        temp_seq = seq.copy()\n",
    "        temp_seq[feature_index] = value\n",
    "        padded = tf.keras.preprocessing.sequence.pad_sequences([temp_seq], maxlen=max_sequence_length)\n",
    "        preds = lstm_model_glove.predict(padded)\n",
    "        predictions.append(preds[0][0])\n",
    "    \n",
    "    plt.figure(figsize=(10, 5))\n",
    "    plt.plot(feature_values, predictions, marker='o')\n",
    "    plt.xlabel('Feature Value')\n",
    "    plt.ylabel('Predicted Probability')\n",
    "    plt.title(f'Partial Dependence Plot for Feature at Index {feature_index}')\n",
    "    plt.grid()\n",
    "    plt.show()\n",
    "\n",
    "partial_dependence_plot(text_to_explain, 5)  # Change the feature index to analyze different features\n"
   ]
  },
  {
   "cell_type": "code",
   "execution_count": null,
   "id": "22d62c82-cee3-4479-b254-cb47ce2ce355",
   "metadata": {},
   "outputs": [],
   "source": [
    "# 11. Cumulative Importance of Features for Multiple Samples\n",
    "num_samples = 5\n",
    "texts_to_explain = df['clean_text'].iloc[:num_samples]  # Change to select different examples\n",
    "cumulative_importances = []\n",
    "for text in texts_to_explain:\n",
    "    exp = explainer.explain_instance(text, predict_proba, num_features=10)\n",
    "    weights = sorted(dict(exp.as_list()).values(), reverse=True)\n",
    "    cumulative_importance = np.cumsum(weights) / np.sum(weights)\n",
    "    cumulative_importances.append(cumulative_importance)\n",
    "\n",
    "plt.figure(figsize=(10, 5))\n",
    "for i, cum_importance in enumerate(cumulative_importances):\n",
    "    plt.plot(cum_importance, marker='o', label=f'Sample {i}')\n",
    "plt.xlabel('Number of Features')\n",
    "plt.ylabel('Cumulative Importance')\n",
    "plt.title('Cumulative Importance of Features for Multiple Samples')\n",
    "plt.legend()\n",
    "plt.grid()\n",
    "plt.show()"
   ]
  },
  {
   "cell_type": "code",
   "execution_count": null,
   "id": "bd5fc85e-52d9-45fa-a4c7-e29f5ce62f67",
   "metadata": {},
   "outputs": [],
   "source": []
  }
 ],
 "metadata": {
  "kernelspec": {
   "display_name": "Python 3 (ipykernel)",
   "language": "python",
   "name": "python3"
  },
  "language_info": {
   "codemirror_mode": {
    "name": "ipython",
    "version": 3
   },
   "file_extension": ".py",
   "mimetype": "text/x-python",
   "name": "python",
   "nbconvert_exporter": "python",
   "pygments_lexer": "ipython3",
   "version": "3.11.7"
  }
 },
 "nbformat": 4,
 "nbformat_minor": 5
}
