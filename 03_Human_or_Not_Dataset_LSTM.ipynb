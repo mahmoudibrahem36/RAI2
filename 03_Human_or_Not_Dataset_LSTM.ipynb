{
 "cells": [
  {
   "cell_type": "code",
   "execution_count": 1,
   "id": "e2cc391f-b270-47ff-8d99-86fb40fbed51",
   "metadata": {
    "colab": {
     "base_uri": "https://localhost:8080/",
     "height": 391
    },
    "id": "e2cc391f-b270-47ff-8d99-86fb40fbed51",
    "outputId": "ef9908f2-033a-4c4b-ad46-8acdafb9d5de"
   },
   "outputs": [
    {
     "name": "stdout",
     "output_type": "stream",
     "text": [
      "WARNING:tensorflow:From C:\\Users\\Ahmedma\\AppData\\Local\\anaconda3\\Lib\\site-packages\\tf_keras\\src\\losses.py:2976: The name tf.losses.sparse_softmax_cross_entropy is deprecated. Please use tf.compat.v1.losses.sparse_softmax_cross_entropy instead.\n",
      "\n"
     ]
    }
   ],
   "source": [
    "\n",
    "import numpy as np\n",
    "import pandas as pd\n",
    "import matplotlib.pyplot as plt\n",
    "import seaborn as sns\n",
    "import re\n",
    "from sklearn.model_selection import train_test_split\n",
    "from sklearn.feature_extraction.text import TfidfVectorizer\n",
    "from sklearn.linear_model import LogisticRegression\n",
    "from sklearn.metrics import accuracy_score, classification_report, confusion_matrix, roc_curve, auc\n",
    "from sklearn.pipeline import Pipeline\n",
    "import tensorflow as tf\n",
    "from tensorflow.keras.models import Sequential\n",
    "from tensorflow.keras.layers import Embedding, LSTM, Dense, Bidirectional, SpatialDropout1D, GlobalAveragePooling1D, Layer\n",
    "from tensorflow.keras.callbacks import EarlyStopping\n",
    "from tensorflow.keras.metrics import Precision, Recall, AUC\n",
    "from nltk.corpus import stopwords\n",
    "from nltk.tokenize import word_tokenize\n",
    "from nltk.stem import WordNetLemmatizer\n",
    "from transformers import BertTokenizer, TFBertForSequenceClassification\n",
    "import torch\n",
    "\n",
    "from tensorflow.keras.models import load_model\n",
    "\n",
    "\n",
    "from gensim.models import Word2Vec, FastText\n",
    "\n",
    "from tensorflow.keras.layers import LSTM, Dense, Bidirectional, SpatialDropout1D, GlobalAveragePooling1D, Layer, Embedding\n",
    "from tensorflow.keras.preprocessing.sequence import pad_sequences\n",
    "from tensorflow.keras.initializers import Constant\n",
    "\n"
   ]
  },
  {
   "cell_type": "code",
   "execution_count": 2,
   "id": "71c1c452-9b48-40a1-9a13-2976809f370a",
   "metadata": {
    "id": "71c1c452-9b48-40a1-9a13-2976809f370a"
   },
   "outputs": [],
   "source": [
    "# Load your dataset (assuming 'text' and 'generated' columns)\n",
    "#df = pd.read_csv('LLM_Datasets/train_essays_7_prompts.csv')\n",
    "\n",
    "df = pd.read_csv('5000human_5000machine.csv', encoding='latin1')\n"
   ]
  },
  {
   "cell_type": "code",
   "execution_count": 3,
   "id": "019e6ba8-5c42-4fc0-8491-c3645d565006",
   "metadata": {
    "id": "019e6ba8-5c42-4fc0-8491-c3645d565006"
   },
   "outputs": [],
   "source": [
    "# Data Preprocessing and Cleaning\n",
    "def clean_text(text):\n",
    "    text = re.sub(r'[^a-zA-Z\\s]', '', text)\n",
    "    text = text.lower()\n",
    "    return text\n"
   ]
  },
  {
   "cell_type": "code",
   "execution_count": 4,
   "id": "2be2774c-eace-4aa9-882a-53ce51b976e7",
   "metadata": {
    "id": "2be2774c-eace-4aa9-882a-53ce51b976e7"
   },
   "outputs": [],
   "source": [
    "df['clean_text'] = df['text'].apply(clean_text)\n",
    "\n"
   ]
  },
  {
   "cell_type": "code",
   "execution_count": 5,
   "id": "764a64b5-af69-4a87-9afa-b5a70b23b15f",
   "metadata": {
    "id": "764a64b5-af69-4a87-9afa-b5a70b23b15f"
   },
   "outputs": [],
   "source": [
    "\n",
    "# Tokenization, stopwords removal, and lemmatization\n",
    "stop_words = set(stopwords.words('english'))\n",
    "lemmatizer = WordNetLemmatizer()\n",
    "\n"
   ]
  },
  {
   "cell_type": "code",
   "execution_count": 6,
   "id": "4a8173c8-0f10-43d7-8ab1-30d3dc6db209",
   "metadata": {
    "id": "4a8173c8-0f10-43d7-8ab1-30d3dc6db209"
   },
   "outputs": [],
   "source": [
    "def preprocess_text(text):\n",
    "    tokens = word_tokenize(text)\n",
    "    tokens = [word for word in tokens if word not in stop_words]\n",
    "    tokens = [lemmatizer.lemmatize(word) for word in tokens]\n",
    "    return tokens\n",
    "\n"
   ]
  },
  {
   "cell_type": "code",
   "execution_count": 7,
   "id": "081ab288-ac40-44ec-98a9-6aca90596519",
   "metadata": {
    "id": "081ab288-ac40-44ec-98a9-6aca90596519"
   },
   "outputs": [],
   "source": [
    "df['tokens'] = df['clean_text'].apply(preprocess_text)\n",
    "\n"
   ]
  },
  {
   "cell_type": "code",
   "execution_count": 8,
   "id": "9ea76a19-ce80-4af3-8d2d-20a93c9b3ab8",
   "metadata": {
    "id": "9ea76a19-ce80-4af3-8d2d-20a93c9b3ab8"
   },
   "outputs": [],
   "source": [
    "# Train Word2Vec model\n",
    "word2vec_model = Word2Vec(sentences=df['tokens'], vector_size=100, window=5, min_count=1, workers=4)\n",
    "\n"
   ]
  },
  {
   "cell_type": "code",
   "execution_count": 9,
   "id": "e1064897-b473-4ca3-8801-2849c8895709",
   "metadata": {
    "id": "e1064897-b473-4ca3-8801-2849c8895709"
   },
   "outputs": [],
   "source": [
    "# Ensure tokenized_sentences is a list of lists\n",
    "tokenized_sentences = df['tokens'].tolist()\n",
    "\n"
   ]
  },
  {
   "cell_type": "code",
   "execution_count": 10,
   "id": "4ab19680-0619-48ce-a030-8c3ca2f262eb",
   "metadata": {
    "id": "4ab19680-0619-48ce-a030-8c3ca2f262eb"
   },
   "outputs": [],
   "source": [
    "# Initialize FastText model\n",
    "fasttext_model = FastText(vector_size=300)\n",
    "\n"
   ]
  },
  {
   "cell_type": "code",
   "execution_count": 11,
   "id": "a2e1f890-a0e2-4bb7-a15c-bd5920ee9937",
   "metadata": {
    "id": "a2e1f890-a0e2-4bb7-a15c-bd5920ee9937"
   },
   "outputs": [],
   "source": [
    "# Build vocabulary\n",
    "fasttext_model.build_vocab(corpus_iterable=tokenized_sentences)\n",
    "\n"
   ]
  },
  {
   "cell_type": "code",
   "execution_count": 12,
   "id": "eba36c1b-a638-4b91-9f6b-b7e1473d4140",
   "metadata": {
    "id": "eba36c1b-a638-4b91-9f6b-b7e1473d4140",
    "outputId": "cf0a5636-ed32-438c-c5af-a92fa3085cf3"
   },
   "outputs": [
    {
     "data": {
      "text/plain": [
       "(13188821, 14357850)"
      ]
     },
     "execution_count": 12,
     "metadata": {},
     "output_type": "execute_result"
    }
   ],
   "source": [
    "# Train the FastText model\n",
    "fasttext_model.train(corpus_iterable=tokenized_sentences, total_examples=len(tokenized_sentences), epochs=10)\n"
   ]
  },
  {
   "cell_type": "code",
   "execution_count": 13,
   "id": "f6f6caff-1ceb-4403-9cf8-a377ca66a798",
   "metadata": {
    "id": "f6f6caff-1ceb-4403-9cf8-a377ca66a798"
   },
   "outputs": [],
   "source": [
    "# Load GloVe embeddings\n",
    "def load_glove_embeddings(filepath, embedding_dim=100):\n",
    "    glove_embeddings = {}\n",
    "    with open(filepath, 'r', encoding='utf-8') as f:\n",
    "        for line in f:\n",
    "            values = line.split()\n",
    "            word = values[0]\n",
    "            vector = np.asarray(values[1:], dtype='float32')\n",
    "            glove_embeddings[word] = vector\n",
    "    return glove_embeddings\n"
   ]
  },
  {
   "cell_type": "code",
   "execution_count": 14,
   "id": "c559c74a-ad3f-4dee-9eda-e14685da6560",
   "metadata": {
    "id": "c559c74a-ad3f-4dee-9eda-e14685da6560"
   },
   "outputs": [],
   "source": [
    "import requests\n",
    "import zipfile\n",
    "import os\n",
    "\n",
    "# URL to the GloVe embeddings\n",
    "url = 'http://nlp.stanford.edu/data/glove.6B.zip'\n",
    "filename = 'glove.6B.zip'\n",
    "\n",
    "# Download the GloVe embeddings\n",
    "response = requests.get(url)\n",
    "with open(filename, 'wb') as f:\n",
    "    f.write(response.content)\n",
    "\n",
    "# Unzip the file\n",
    "with zipfile.ZipFile(filename, 'r') as zip_ref:\n",
    "    zip_ref.extractall('glove.6B')\n",
    "\n",
    "# Path to the specific GloVe file you want to use\n",
    "glove_filepath = 'glove.6B/glove.6B.100d.txt'\n",
    "\n",
    "if os.path.exists(glove_filepath):\n",
    "    glove_embeddings = load_glove_embeddings(glove_filepath, embedding_dim=100)\n",
    "else:\n",
    "    print(f\"File not found: {glove_filepath}\")\n"
   ]
  },
  {
   "cell_type": "code",
   "execution_count": 15,
   "id": "05035b6a-cf96-42b3-84be-0408d743fb5a",
   "metadata": {
    "id": "05035b6a-cf96-42b3-84be-0408d743fb5a"
   },
   "outputs": [],
   "source": [
    "\n",
    "# Convert text data into numerical representations: Padding\n",
    "max_seq_length = 100  # Choose an appropriate sequence length\n",
    "tokenizer = tf.keras.preprocessing.text.Tokenizer()\n",
    "tokenizer.fit_on_texts(df['clean_text'])\n",
    "X_seq = tokenizer.texts_to_sequences(df['clean_text'])\n",
    "X_pad = pad_sequences(X_seq, maxlen=max_seq_length)\n",
    "\n"
   ]
  },
  {
   "cell_type": "code",
   "execution_count": 16,
   "id": "b2c1afe4-d8dd-40be-b272-928361272f57",
   "metadata": {
    "id": "b2c1afe4-d8dd-40be-b272-928361272f57"
   },
   "outputs": [],
   "source": [
    "# Define features (X) and target variable (y)\n",
    "X = X_pad\n",
    "y = df['label']\n",
    "\n"
   ]
  },
  {
   "cell_type": "code",
   "execution_count": 17,
   "id": "27077256-12d3-4f48-8887-e70b2e517561",
   "metadata": {
    "id": "27077256-12d3-4f48-8887-e70b2e517561"
   },
   "outputs": [],
   "source": [
    "# Split the dataset into training and validation sets\n",
    "X_train, X_val, y_train, y_val = train_test_split(X, y, test_size=0.3, random_state=42)\n",
    "\n"
   ]
  },
  {
   "cell_type": "code",
   "execution_count": 18,
   "id": "31b6d7b5-5cb1-4fcb-a96d-b8338b8b1ab2",
   "metadata": {
    "id": "31b6d7b5-5cb1-4fcb-a96d-b8338b8b1ab2"
   },
   "outputs": [],
   "source": [
    "# Define the Attention layer\n",
    "class Attention(Layer):\n",
    "    def __init__(self, return_sequences=True):\n",
    "        super(Attention, self).__init__()\n",
    "        self.return_sequences = return_sequences\n",
    "\n",
    "    def build(self, input_shape):\n",
    "        self.W = self.add_weight(name=\"att_weight\", shape=(input_shape[-1], 1), initializer=\"normal\")\n",
    "        self.b = self.add_weight(name=\"att_bias\", shape=(input_shape[1], 1), initializer=\"zeros\")\n",
    "        super(Attention, self).build(input_shape)\n",
    "\n",
    "    def call(self, x):\n",
    "        e = tf.keras.activations.tanh(tf.keras.backend.dot(x, self.W) + self.b)\n",
    "        a = tf.keras.activations.softmax(e, axis=1)\n",
    "        output = x * a\n",
    "        if self.return_sequences:\n",
    "            return output\n",
    "        return tf.keras.backend.sum(output, axis=1)\n",
    "\n"
   ]
  },
  {
   "cell_type": "code",
   "execution_count": 19,
   "id": "6f9ecc52-e349-4d43-b864-c14bf55013ab",
   "metadata": {
    "id": "6f9ecc52-e349-4d43-b864-c14bf55013ab"
   },
   "outputs": [],
   "source": [
    "# Function to create embedding matrix\n",
    "def create_embedding_matrix(tokenizer, model, embedding_dim):\n",
    "    embedding_matrix = np.zeros((len(tokenizer.word_index) + 1, embedding_dim))\n",
    "    for word, i in tokenizer.word_index.items():\n",
    "        if word in model.wv:\n",
    "            embedding_matrix[i] = model.wv[word]\n",
    "    return embedding_matrix\n"
   ]
  },
  {
   "cell_type": "code",
   "execution_count": 20,
   "id": "13940e84-7c77-44b7-901d-cbd5772240ff",
   "metadata": {
    "id": "13940e84-7c77-44b7-901d-cbd5772240ff"
   },
   "outputs": [],
   "source": [
    "\n",
    "# Prepare embedding matrices for Word2Vec, FastText, and GloVe\n",
    "embedding_matrix_word2vec = create_embedding_matrix(tokenizer, word2vec_model, 100)\n",
    "embedding_matrix_fasttext = create_embedding_matrix(tokenizer, fasttext_model, 300)\n",
    "\n"
   ]
  },
  {
   "cell_type": "code",
   "execution_count": 21,
   "id": "46906678-3767-4de4-80f7-8a761a7ffba7",
   "metadata": {
    "id": "46906678-3767-4de4-80f7-8a761a7ffba7"
   },
   "outputs": [],
   "source": [
    "\n",
    "embedding_matrix_glove = np.zeros((len(tokenizer.word_index) + 1, 100))\n",
    "for word, i in tokenizer.word_index.items():\n",
    "    embedding_vector = glove_embeddings.get(word)\n",
    "    if embedding_vector is not None:\n",
    "        embedding_matrix_glove[i] = embedding_vector\n",
    "\n",
    "\n"
   ]
  },
  {
   "cell_type": "code",
   "execution_count": 22,
   "id": "7ef7de2e-297a-4ba4-b187-c32fdf733c96",
   "metadata": {
    "id": "7ef7de2e-297a-4ba4-b187-c32fdf733c96"
   },
   "outputs": [],
   "source": [
    "# Define LSTM model with embeddings and attention\n",
    "def create_lstm_model(input_dim, output_dim, max_sequence_length, embedding_matrix):\n",
    "    model = Sequential()\n",
    "    model.add(Embedding(input_dim, output_dim, input_length=max_sequence_length,\n",
    "                        embeddings_initializer=Constant(embedding_matrix),\n",
    "                        trainable=False))\n",
    "    model.add(SpatialDropout1D(0.2))\n",
    "    model.add(Bidirectional(LSTM(64, return_sequences=True)))\n",
    "    model.add(Attention(return_sequences=True))\n",
    "    model.add(GlobalAveragePooling1D())\n",
    "    model.add(Dense(1, activation='sigmoid'))\n",
    "    model.compile(optimizer='adam', loss='binary_crossentropy', metrics=['accuracy', Precision(), Recall(), AUC()])\n",
    "    return model\n",
    "\n"
   ]
  },
  {
   "cell_type": "code",
   "execution_count": 23,
   "id": "03c7d63c-d0dc-44cc-8c14-b676688863bc",
   "metadata": {
    "id": "03c7d63c-d0dc-44cc-8c14-b676688863bc",
    "outputId": "69f9bc8c-1d3f-45cd-ccc3-74d7a9f1b3d0"
   },
   "outputs": [
    {
     "name": "stderr",
     "output_type": "stream",
     "text": [
      "C:\\Users\\Ahmedma\\AppData\\Local\\anaconda3\\Lib\\site-packages\\keras\\src\\layers\\core\\embedding.py:90: UserWarning: Argument `input_length` is deprecated. Just remove it.\n",
      "  warnings.warn(\n"
     ]
    }
   ],
   "source": [
    "# Create LSTM models with different embeddings\n",
    "lstm_model_word2vec = create_lstm_model(len(tokenizer.word_index) + 1, 100, max_seq_length, embedding_matrix_word2vec)\n",
    "lstm_model_fasttext = create_lstm_model(len(tokenizer.word_index) + 1, 300, max_seq_length, embedding_matrix_fasttext)\n",
    "lstm_model_glove = create_lstm_model(len(tokenizer.word_index) + 1, 100, max_seq_length, embedding_matrix_glove)\n",
    "\n"
   ]
  },
  {
   "cell_type": "code",
   "execution_count": 24,
   "id": "2da54c3c-0fc9-4107-91ea-155eb03b38b6",
   "metadata": {
    "id": "2da54c3c-0fc9-4107-91ea-155eb03b38b6",
    "outputId": "40b73aa1-a4d6-4d4e-99bf-c0764eb4e564"
   },
   "outputs": [
    {
     "name": "stdout",
     "output_type": "stream",
     "text": [
      "Epoch 1/200\n",
      "WARNING:tensorflow:From C:\\Users\\Ahmedma\\AppData\\Local\\anaconda3\\Lib\\site-packages\\keras\\src\\backend\\tensorflow\\core.py:192: The name tf.placeholder is deprecated. Please use tf.compat.v1.placeholder instead.\n",
      "\n",
      "\u001b[1m219/219\u001b[0m \u001b[32m━━━━━━━━━━━━━━━━━━━━\u001b[0m\u001b[37m\u001b[0m \u001b[1m21s\u001b[0m 45ms/step - accuracy: 0.6050 - auc: 0.6575 - loss: 0.6834 - precision: 0.5890 - recall: 0.7721 - val_accuracy: 0.6243 - val_auc: 0.7021 - val_loss: 0.6658 - val_precision: 0.5837 - val_recall: 0.8004\n",
      "Epoch 2/200\n",
      "\u001b[1m219/219\u001b[0m \u001b[32m━━━━━━━━━━━━━━━━━━━━\u001b[0m\u001b[37m\u001b[0m \u001b[1m9s\u001b[0m 40ms/step - accuracy: 0.6461 - auc: 0.7184 - loss: 0.6567 - precision: 0.6536 - recall: 0.6433 - val_accuracy: 0.6627 - val_auc: 0.7205 - val_loss: 0.6505 - val_precision: 0.6878 - val_recall: 0.5646\n",
      "Epoch 3/200\n",
      "\u001b[1m219/219\u001b[0m \u001b[32m━━━━━━━━━━━━━━━━━━━━\u001b[0m\u001b[37m\u001b[0m \u001b[1m9s\u001b[0m 39ms/step - accuracy: 0.6644 - auc: 0.7178 - loss: 0.6455 - precision: 0.6752 - recall: 0.6495 - val_accuracy: 0.6223 - val_auc: 0.6954 - val_loss: 0.6601 - val_precision: 0.6210 - val_recall: 0.5789\n",
      "Epoch 4/200\n",
      "\u001b[1m219/219\u001b[0m \u001b[32m━━━━━━━━━━━━━━━━━━━━\u001b[0m\u001b[37m\u001b[0m \u001b[1m9s\u001b[0m 40ms/step - accuracy: 0.6388 - auc: 0.7172 - loss: 0.6496 - precision: 0.6151 - recall: 0.7415 - val_accuracy: 0.6317 - val_auc: 0.7105 - val_loss: 0.6446 - val_precision: 0.6139 - val_recall: 0.6596\n",
      "Epoch 5/200\n",
      "\u001b[1m219/219\u001b[0m \u001b[32m━━━━━━━━━━━━━━━━━━━━\u001b[0m\u001b[37m\u001b[0m \u001b[1m9s\u001b[0m 40ms/step - accuracy: 0.6372 - auc: 0.7091 - loss: 0.6441 - precision: 0.6463 - recall: 0.6143 - val_accuracy: 0.6353 - val_auc: 0.7308 - val_loss: 0.6324 - val_precision: 0.5874 - val_recall: 0.8476\n",
      "Epoch 6/200\n",
      "\u001b[1m219/219\u001b[0m \u001b[32m━━━━━━━━━━━━━━━━━━━━\u001b[0m\u001b[37m\u001b[0m \u001b[1m9s\u001b[0m 40ms/step - accuracy: 0.6531 - auc: 0.7501 - loss: 0.6227 - precision: 0.6109 - recall: 0.8256 - val_accuracy: 0.6570 - val_auc: 0.7204 - val_loss: 0.6418 - val_precision: 0.6199 - val_recall: 0.7669\n",
      "Epoch 7/200\n",
      "\u001b[1m219/219\u001b[0m \u001b[32m━━━━━━━━━━━━━━━━━━━━\u001b[0m\u001b[37m\u001b[0m \u001b[1m8s\u001b[0m 38ms/step - accuracy: 0.6938 - auc: 0.7499 - loss: 0.6140 - precision: 0.6887 - recall: 0.7155 - val_accuracy: 0.7003 - val_auc: 0.7527 - val_loss: 0.6075 - val_precision: 0.6767 - val_recall: 0.7382\n",
      "Epoch 8/200\n",
      "\u001b[1m219/219\u001b[0m \u001b[32m━━━━━━━━━━━━━━━━━━━━\u001b[0m\u001b[37m\u001b[0m \u001b[1m9s\u001b[0m 39ms/step - accuracy: 0.6872 - auc: 0.7520 - loss: 0.6064 - precision: 0.6711 - recall: 0.7237 - val_accuracy: 0.6830 - val_auc: 0.7453 - val_loss: 0.6142 - val_precision: 0.6518 - val_recall: 0.7512\n",
      "Epoch 9/200\n",
      "\u001b[1m219/219\u001b[0m \u001b[32m━━━━━━━━━━━━━━━━━━━━\u001b[0m\u001b[37m\u001b[0m \u001b[1m9s\u001b[0m 40ms/step - accuracy: 0.7120 - auc: 0.7728 - loss: 0.5904 - precision: 0.7305 - recall: 0.6837 - val_accuracy: 0.6943 - val_auc: 0.7733 - val_loss: 0.5940 - val_precision: 0.6591 - val_recall: 0.7731\n",
      "Epoch 10/200\n",
      "\u001b[1m219/219\u001b[0m \u001b[32m━━━━━━━━━━━━━━━━━━━━\u001b[0m\u001b[37m\u001b[0m \u001b[1m9s\u001b[0m 39ms/step - accuracy: 0.7292 - auc: 0.7882 - loss: 0.5747 - precision: 0.7346 - recall: 0.7341 - val_accuracy: 0.6783 - val_auc: 0.7613 - val_loss: 0.5999 - val_precision: 0.6495 - val_recall: 0.7396\n",
      "Epoch 11/200\n",
      "\u001b[1m219/219\u001b[0m \u001b[32m━━━━━━━━━━━━━━━━━━━━\u001b[0m\u001b[37m\u001b[0m \u001b[1m9s\u001b[0m 41ms/step - accuracy: 0.7176 - auc: 0.7861 - loss: 0.5729 - precision: 0.7270 - recall: 0.7299 - val_accuracy: 0.7410 - val_auc: 0.8149 - val_loss: 0.5567 - val_precision: 0.7269 - val_recall: 0.7512\n",
      "Epoch 12/200\n",
      "\u001b[1m219/219\u001b[0m \u001b[32m━━━━━━━━━━━━━━━━━━━━\u001b[0m\u001b[37m\u001b[0m \u001b[1m8s\u001b[0m 38ms/step - accuracy: 0.7469 - auc: 0.8171 - loss: 0.5486 - precision: 0.7500 - recall: 0.7499 - val_accuracy: 0.6433 - val_auc: 0.7526 - val_loss: 0.6130 - val_precision: 0.5910 - val_recall: 0.8722\n",
      "Epoch 13/200\n",
      "\u001b[1m219/219\u001b[0m \u001b[32m━━━━━━━━━━━━━━━━━━━━\u001b[0m\u001b[37m\u001b[0m \u001b[1m8s\u001b[0m 38ms/step - accuracy: 0.6832 - auc: 0.7711 - loss: 0.5911 - precision: 0.6561 - recall: 0.8082 - val_accuracy: 0.6900 - val_auc: 0.7807 - val_loss: 0.5779 - val_precision: 0.6634 - val_recall: 0.7396\n",
      "Epoch 14/200\n",
      "\u001b[1m219/219\u001b[0m \u001b[32m━━━━━━━━━━━━━━━━━━━━\u001b[0m\u001b[37m\u001b[0m \u001b[1m8s\u001b[0m 38ms/step - accuracy: 0.7253 - auc: 0.8011 - loss: 0.5600 - precision: 0.7398 - recall: 0.7012 - val_accuracy: 0.7350 - val_auc: 0.8158 - val_loss: 0.5416 - val_precision: 0.7538 - val_recall: 0.6781\n",
      "Epoch 15/200\n",
      "\u001b[1m219/219\u001b[0m \u001b[32m━━━━━━━━━━━━━━━━━━━━\u001b[0m\u001b[37m\u001b[0m \u001b[1m9s\u001b[0m 40ms/step - accuracy: 0.7579 - auc: 0.8291 - loss: 0.5303 - precision: 0.7779 - recall: 0.7257 - val_accuracy: 0.7577 - val_auc: 0.8258 - val_loss: 0.5304 - val_precision: 0.7710 - val_recall: 0.7157\n",
      "Epoch 16/200\n",
      "\u001b[1m219/219\u001b[0m \u001b[32m━━━━━━━━━━━━━━━━━━━━\u001b[0m\u001b[37m\u001b[0m \u001b[1m9s\u001b[0m 39ms/step - accuracy: 0.7639 - auc: 0.8378 - loss: 0.5182 - precision: 0.7739 - recall: 0.7480 - val_accuracy: 0.7643 - val_auc: 0.8392 - val_loss: 0.5167 - val_precision: 0.7804 - val_recall: 0.7191\n",
      "Epoch 17/200\n",
      "\u001b[1m219/219\u001b[0m \u001b[32m━━━━━━━━━━━━━━━━━━━━\u001b[0m\u001b[37m\u001b[0m \u001b[1m9s\u001b[0m 41ms/step - accuracy: 0.7700 - auc: 0.8326 - loss: 0.5173 - precision: 0.7951 - recall: 0.7194 - val_accuracy: 0.7517 - val_auc: 0.8316 - val_loss: 0.5142 - val_precision: 0.7590 - val_recall: 0.7191\n",
      "Epoch 18/200\n",
      "\u001b[1m219/219\u001b[0m \u001b[32m━━━━━━━━━━━━━━━━━━━━\u001b[0m\u001b[37m\u001b[0m \u001b[1m8s\u001b[0m 38ms/step - accuracy: 0.7719 - auc: 0.8473 - loss: 0.4992 - precision: 0.7911 - recall: 0.7459 - val_accuracy: 0.7730 - val_auc: 0.8567 - val_loss: 0.4845 - val_precision: 0.7653 - val_recall: 0.7710\n",
      "Epoch 19/200\n",
      "\u001b[1m219/219\u001b[0m \u001b[32m━━━━━━━━━━━━━━━━━━━━\u001b[0m\u001b[37m\u001b[0m \u001b[1m9s\u001b[0m 40ms/step - accuracy: 0.7840 - auc: 0.8629 - loss: 0.4802 - precision: 0.8045 - recall: 0.7609 - val_accuracy: 0.7980 - val_auc: 0.8781 - val_loss: 0.4627 - val_precision: 0.8447 - val_recall: 0.7177\n",
      "Epoch 20/200\n",
      "\u001b[1m219/219\u001b[0m \u001b[32m━━━━━━━━━━━━━━━━━━━━\u001b[0m\u001b[37m\u001b[0m \u001b[1m9s\u001b[0m 40ms/step - accuracy: 0.7841 - auc: 0.8586 - loss: 0.4799 - precision: 0.7919 - recall: 0.7733 - val_accuracy: 0.7500 - val_auc: 0.8388 - val_loss: 0.5112 - val_precision: 0.7263 - val_recall: 0.7820\n",
      "Epoch 21/200\n",
      "\u001b[1m219/219\u001b[0m \u001b[32m━━━━━━━━━━━━━━━━━━━━\u001b[0m\u001b[37m\u001b[0m \u001b[1m8s\u001b[0m 38ms/step - accuracy: 0.7849 - auc: 0.8557 - loss: 0.4872 - precision: 0.7982 - recall: 0.7715 - val_accuracy: 0.7893 - val_auc: 0.8703 - val_loss: 0.4666 - val_precision: 0.8343 - val_recall: 0.7088\n",
      "Epoch 22/200\n",
      "\u001b[1m219/219\u001b[0m \u001b[32m━━━━━━━━━━━━━━━━━━━━\u001b[0m\u001b[37m\u001b[0m \u001b[1m9s\u001b[0m 39ms/step - accuracy: 0.7872 - auc: 0.8687 - loss: 0.4674 - precision: 0.8171 - recall: 0.7356 - val_accuracy: 0.7843 - val_auc: 0.8644 - val_loss: 0.4763 - val_precision: 0.7857 - val_recall: 0.7669\n",
      "Epoch 23/200\n",
      "\u001b[1m219/219\u001b[0m \u001b[32m━━━━━━━━━━━━━━━━━━━━\u001b[0m\u001b[37m\u001b[0m \u001b[1m9s\u001b[0m 40ms/step - accuracy: 0.8006 - auc: 0.8747 - loss: 0.4579 - precision: 0.8060 - recall: 0.8025 - val_accuracy: 0.8003 - val_auc: 0.8787 - val_loss: 0.4499 - val_precision: 0.8059 - val_recall: 0.7779\n",
      "Epoch 24/200\n",
      "\u001b[1m219/219\u001b[0m \u001b[32m━━━━━━━━━━━━━━━━━━━━\u001b[0m\u001b[37m\u001b[0m \u001b[1m9s\u001b[0m 39ms/step - accuracy: 0.8003 - auc: 0.8820 - loss: 0.4460 - precision: 0.8008 - recall: 0.7977 - val_accuracy: 0.8150 - val_auc: 0.8937 - val_loss: 0.4366 - val_precision: 0.8276 - val_recall: 0.7840\n",
      "Epoch 25/200\n",
      "\u001b[1m219/219\u001b[0m \u001b[32m━━━━━━━━━━━━━━━━━━━━\u001b[0m\u001b[37m\u001b[0m \u001b[1m9s\u001b[0m 39ms/step - accuracy: 0.8057 - auc: 0.8891 - loss: 0.4361 - precision: 0.8229 - recall: 0.7981 - val_accuracy: 0.8013 - val_auc: 0.8839 - val_loss: 0.4412 - val_precision: 0.7691 - val_recall: 0.8469\n",
      "Epoch 26/200\n",
      "\u001b[1m219/219\u001b[0m \u001b[32m━━━━━━━━━━━━━━━━━━━━\u001b[0m\u001b[37m\u001b[0m \u001b[1m9s\u001b[0m 39ms/step - accuracy: 0.8155 - auc: 0.8944 - loss: 0.4312 - precision: 0.8393 - recall: 0.7809 - val_accuracy: 0.8163 - val_auc: 0.8968 - val_loss: 0.4267 - val_precision: 0.7846 - val_recall: 0.8592\n",
      "Epoch 27/200\n",
      "\u001b[1m219/219\u001b[0m \u001b[32m━━━━━━━━━━━━━━━━━━━━\u001b[0m\u001b[37m\u001b[0m \u001b[1m9s\u001b[0m 39ms/step - accuracy: 0.8243 - auc: 0.9043 - loss: 0.4119 - precision: 0.8303 - recall: 0.8187 - val_accuracy: 0.8203 - val_auc: 0.9003 - val_loss: 0.4187 - val_precision: 0.8139 - val_recall: 0.8189\n",
      "Epoch 28/200\n",
      "\u001b[1m219/219\u001b[0m \u001b[32m━━━━━━━━━━━━━━━━━━━━\u001b[0m\u001b[37m\u001b[0m \u001b[1m9s\u001b[0m 39ms/step - accuracy: 0.8226 - auc: 0.9029 - loss: 0.4081 - precision: 0.8285 - recall: 0.8168 - val_accuracy: 0.8180 - val_auc: 0.8988 - val_loss: 0.4167 - val_precision: 0.7721 - val_recall: 0.8893\n",
      "Epoch 29/200\n",
      "\u001b[1m219/219\u001b[0m \u001b[32m━━━━━━━━━━━━━━━━━━━━\u001b[0m\u001b[37m\u001b[0m \u001b[1m8s\u001b[0m 38ms/step - accuracy: 0.8078 - auc: 0.8896 - loss: 0.4297 - precision: 0.8142 - recall: 0.8068 - val_accuracy: 0.8103 - val_auc: 0.8826 - val_loss: 0.4392 - val_precision: 0.7840 - val_recall: 0.8435\n",
      "Epoch 30/200\n",
      "\u001b[1m219/219\u001b[0m \u001b[32m━━━━━━━━━━━━━━━━━━━━\u001b[0m\u001b[37m\u001b[0m \u001b[1m8s\u001b[0m 38ms/step - accuracy: 0.8226 - auc: 0.8917 - loss: 0.4239 - precision: 0.8214 - recall: 0.8293 - val_accuracy: 0.7820 - val_auc: 0.8892 - val_loss: 0.4600 - val_precision: 0.8770 - val_recall: 0.6432\n",
      "Epoch 31/200\n",
      "\u001b[1m219/219\u001b[0m \u001b[32m━━━━━━━━━━━━━━━━━━━━\u001b[0m\u001b[37m\u001b[0m \u001b[1m8s\u001b[0m 39ms/step - accuracy: 0.7924 - auc: 0.8851 - loss: 0.4501 - precision: 0.8469 - recall: 0.7264 - val_accuracy: 0.8333 - val_auc: 0.9093 - val_loss: 0.4052 - val_precision: 0.8305 - val_recall: 0.8271\n",
      "Epoch 32/200\n",
      "\u001b[1m219/219\u001b[0m \u001b[32m━━━━━━━━━━━━━━━━━━━━\u001b[0m\u001b[37m\u001b[0m \u001b[1m9s\u001b[0m 39ms/step - accuracy: 0.8331 - auc: 0.9069 - loss: 0.4053 - precision: 0.8501 - recall: 0.8187 - val_accuracy: 0.8287 - val_auc: 0.9063 - val_loss: 0.4079 - val_precision: 0.8107 - val_recall: 0.8462\n",
      "Epoch 33/200\n",
      "\u001b[1m219/219\u001b[0m \u001b[32m━━━━━━━━━━━━━━━━━━━━\u001b[0m\u001b[37m\u001b[0m \u001b[1m8s\u001b[0m 38ms/step - accuracy: 0.8410 - auc: 0.9094 - loss: 0.3977 - precision: 0.8415 - recall: 0.8420 - val_accuracy: 0.8273 - val_auc: 0.9053 - val_loss: 0.4039 - val_precision: 0.8046 - val_recall: 0.8530\n",
      "Epoch 34/200\n",
      "\u001b[1m219/219\u001b[0m \u001b[32m━━━━━━━━━━━━━━━━━━━━\u001b[0m\u001b[37m\u001b[0m \u001b[1m8s\u001b[0m 38ms/step - accuracy: 0.8269 - auc: 0.9088 - loss: 0.3991 - precision: 0.8281 - recall: 0.8330 - val_accuracy: 0.8450 - val_auc: 0.9167 - val_loss: 0.3822 - val_precision: 0.8345 - val_recall: 0.8510\n",
      "Epoch 35/200\n",
      "\u001b[1m219/219\u001b[0m \u001b[32m━━━━━━━━━━━━━━━━━━━━\u001b[0m\u001b[37m\u001b[0m \u001b[1m8s\u001b[0m 39ms/step - accuracy: 0.8486 - auc: 0.9175 - loss: 0.3781 - precision: 0.8509 - recall: 0.8547 - val_accuracy: 0.8313 - val_auc: 0.9173 - val_loss: 0.3936 - val_precision: 0.9031 - val_recall: 0.7327\n",
      "Epoch 36/200\n",
      "\u001b[1m219/219\u001b[0m \u001b[32m━━━━━━━━━━━━━━━━━━━━\u001b[0m\u001b[37m\u001b[0m \u001b[1m9s\u001b[0m 40ms/step - accuracy: 0.8407 - auc: 0.9204 - loss: 0.3731 - precision: 0.8533 - recall: 0.8320 - val_accuracy: 0.8453 - val_auc: 0.9182 - val_loss: 0.3717 - val_precision: 0.8462 - val_recall: 0.8346\n",
      "Epoch 37/200\n",
      "\u001b[1m219/219\u001b[0m \u001b[32m━━━━━━━━━━━━━━━━━━━━\u001b[0m\u001b[37m\u001b[0m \u001b[1m8s\u001b[0m 38ms/step - accuracy: 0.8547 - auc: 0.9220 - loss: 0.3650 - precision: 0.8608 - recall: 0.8526 - val_accuracy: 0.8373 - val_auc: 0.9190 - val_loss: 0.3930 - val_precision: 0.9012 - val_recall: 0.7485\n",
      "Epoch 38/200\n",
      "\u001b[1m219/219\u001b[0m \u001b[32m━━━━━━━━━━━━━━━━━━━━\u001b[0m\u001b[37m\u001b[0m \u001b[1m8s\u001b[0m 39ms/step - accuracy: 0.8457 - auc: 0.9206 - loss: 0.3728 - precision: 0.8661 - recall: 0.8229 - val_accuracy: 0.8473 - val_auc: 0.9186 - val_loss: 0.3738 - val_precision: 0.8687 - val_recall: 0.8093\n",
      "Epoch 39/200\n",
      "\u001b[1m219/219\u001b[0m \u001b[32m━━━━━━━━━━━━━━━━━━━━\u001b[0m\u001b[37m\u001b[0m \u001b[1m9s\u001b[0m 39ms/step - accuracy: 0.8552 - auc: 0.9243 - loss: 0.3591 - precision: 0.8613 - recall: 0.8526 - val_accuracy: 0.8457 - val_auc: 0.9249 - val_loss: 0.3670 - val_precision: 0.8113 - val_recall: 0.8906\n",
      "Epoch 40/200\n",
      "\u001b[1m219/219\u001b[0m \u001b[32m━━━━━━━━━━━━━━━━━━━━\u001b[0m\u001b[37m\u001b[0m \u001b[1m8s\u001b[0m 38ms/step - accuracy: 0.8523 - auc: 0.9248 - loss: 0.3564 - precision: 0.8510 - recall: 0.8629 - val_accuracy: 0.8100 - val_auc: 0.9020 - val_loss: 0.4026 - val_precision: 0.8035 - val_recall: 0.8079\n",
      "Epoch 41/200\n",
      "\u001b[1m219/219\u001b[0m \u001b[32m━━━━━━━━━━━━━━━━━━━━\u001b[0m\u001b[37m\u001b[0m \u001b[1m9s\u001b[0m 41ms/step - accuracy: 0.8407 - auc: 0.9232 - loss: 0.3640 - precision: 0.8490 - recall: 0.8274 - val_accuracy: 0.8533 - val_auc: 0.9261 - val_loss: 0.3522 - val_precision: 0.8468 - val_recall: 0.8537\n",
      "Epoch 42/200\n",
      "\u001b[1m219/219\u001b[0m \u001b[32m━━━━━━━━━━━━━━━━━━━━\u001b[0m\u001b[37m\u001b[0m \u001b[1m11s\u001b[0m 44ms/step - accuracy: 0.8724 - auc: 0.9418 - loss: 0.3215 - precision: 0.8749 - recall: 0.8719 - val_accuracy: 0.8470 - val_auc: 0.9279 - val_loss: 0.3541 - val_precision: 0.8218 - val_recall: 0.8763\n",
      "Epoch 43/200\n",
      "\u001b[1m219/219\u001b[0m \u001b[32m━━━━━━━━━━━━━━━━━━━━\u001b[0m\u001b[37m\u001b[0m \u001b[1m9s\u001b[0m 39ms/step - accuracy: 0.8499 - auc: 0.9281 - loss: 0.3531 - precision: 0.8544 - recall: 0.8435 - val_accuracy: 0.8500 - val_auc: 0.9309 - val_loss: 0.3470 - val_precision: 0.8188 - val_recall: 0.8893\n",
      "Epoch 44/200\n",
      "\u001b[1m219/219\u001b[0m \u001b[32m━━━━━━━━━━━━━━━━━━━━\u001b[0m\u001b[37m\u001b[0m \u001b[1m9s\u001b[0m 40ms/step - accuracy: 0.8727 - auc: 0.9442 - loss: 0.3161 - precision: 0.8712 - recall: 0.8772 - val_accuracy: 0.8543 - val_auc: 0.9261 - val_loss: 0.3520 - val_precision: 0.8331 - val_recall: 0.8770\n",
      "Epoch 45/200\n",
      "\u001b[1m219/219\u001b[0m \u001b[32m━━━━━━━━━━━━━━━━━━━━\u001b[0m\u001b[37m\u001b[0m \u001b[1m8s\u001b[0m 39ms/step - accuracy: 0.8745 - auc: 0.9441 - loss: 0.3126 - precision: 0.8767 - recall: 0.8703 - val_accuracy: 0.8597 - val_auc: 0.9344 - val_loss: 0.3352 - val_precision: 0.8737 - val_recall: 0.8325\n",
      "Epoch 46/200\n",
      "\u001b[1m219/219\u001b[0m \u001b[32m━━━━━━━━━━━━━━━━━━━━\u001b[0m\u001b[37m\u001b[0m \u001b[1m9s\u001b[0m 40ms/step - accuracy: 0.8712 - auc: 0.9403 - loss: 0.3193 - precision: 0.8806 - recall: 0.8677 - val_accuracy: 0.8550 - val_auc: 0.9298 - val_loss: 0.3430 - val_precision: 0.8802 - val_recall: 0.8134\n",
      "Epoch 47/200\n",
      "\u001b[1m219/219\u001b[0m \u001b[32m━━━━━━━━━━━━━━━━━━━━\u001b[0m\u001b[37m\u001b[0m \u001b[1m9s\u001b[0m 43ms/step - accuracy: 0.8787 - auc: 0.9448 - loss: 0.3134 - precision: 0.8823 - recall: 0.8745 - val_accuracy: 0.8587 - val_auc: 0.9344 - val_loss: 0.3353 - val_precision: 0.8800 - val_recall: 0.8223\n",
      "Epoch 48/200\n",
      "\u001b[1m219/219\u001b[0m \u001b[32m━━━━━━━━━━━━━━━━━━━━\u001b[0m\u001b[37m\u001b[0m \u001b[1m9s\u001b[0m 43ms/step - accuracy: 0.8817 - auc: 0.9496 - loss: 0.2968 - precision: 0.8875 - recall: 0.8749 - val_accuracy: 0.8600 - val_auc: 0.9352 - val_loss: 0.3339 - val_precision: 0.8270 - val_recall: 0.9016\n",
      "Epoch 49/200\n",
      "\u001b[1m219/219\u001b[0m \u001b[32m━━━━━━━━━━━━━━━━━━━━\u001b[0m\u001b[37m\u001b[0m \u001b[1m9s\u001b[0m 41ms/step - accuracy: 0.8717 - auc: 0.9430 - loss: 0.3090 - precision: 0.8712 - recall: 0.8737 - val_accuracy: 0.8557 - val_auc: 0.9336 - val_loss: 0.3344 - val_precision: 0.8838 - val_recall: 0.8107\n",
      "Epoch 50/200\n",
      "\u001b[1m219/219\u001b[0m \u001b[32m━━━━━━━━━━━━━━━━━━━━\u001b[0m\u001b[37m\u001b[0m \u001b[1m9s\u001b[0m 41ms/step - accuracy: 0.8837 - auc: 0.9489 - loss: 0.2949 - precision: 0.8808 - recall: 0.8889 - val_accuracy: 0.8617 - val_auc: 0.9324 - val_loss: 0.3342 - val_precision: 0.8797 - val_recall: 0.8298\n",
      "Epoch 51/200\n",
      "\u001b[1m219/219\u001b[0m \u001b[32m━━━━━━━━━━━━━━━━━━━━\u001b[0m\u001b[37m\u001b[0m \u001b[1m9s\u001b[0m 43ms/step - accuracy: 0.8901 - auc: 0.9553 - loss: 0.2801 - precision: 0.8894 - recall: 0.8919 - val_accuracy: 0.8490 - val_auc: 0.9256 - val_loss: 0.3701 - val_precision: 0.8903 - val_recall: 0.7874\n",
      "Epoch 52/200\n",
      "\u001b[1m219/219\u001b[0m \u001b[32m━━━━━━━━━━━━━━━━━━━━\u001b[0m\u001b[37m\u001b[0m \u001b[1m10s\u001b[0m 44ms/step - accuracy: 0.8725 - auc: 0.9416 - loss: 0.3116 - precision: 0.8777 - recall: 0.8724 - val_accuracy: 0.8560 - val_auc: 0.9270 - val_loss: 0.3491 - val_precision: 0.8439 - val_recall: 0.8647\n",
      "Epoch 53/200\n",
      "\u001b[1m219/219\u001b[0m \u001b[32m━━━━━━━━━━━━━━━━━━━━\u001b[0m\u001b[37m\u001b[0m \u001b[1m9s\u001b[0m 41ms/step - accuracy: 0.8810 - auc: 0.9527 - loss: 0.2880 - precision: 0.8830 - recall: 0.8794 - val_accuracy: 0.8603 - val_auc: 0.9373 - val_loss: 0.3252 - val_precision: 0.8821 - val_recall: 0.8237\n",
      "Epoch 54/200\n",
      "\u001b[1m219/219\u001b[0m \u001b[32m━━━━━━━━━━━━━━━━━━━━\u001b[0m\u001b[37m\u001b[0m \u001b[1m9s\u001b[0m 43ms/step - accuracy: 0.8958 - auc: 0.9587 - loss: 0.2673 - precision: 0.8973 - recall: 0.8998 - val_accuracy: 0.8577 - val_auc: 0.9380 - val_loss: 0.3261 - val_precision: 0.8930 - val_recall: 0.8045\n",
      "Epoch 55/200\n",
      "\u001b[1m219/219\u001b[0m \u001b[32m━━━━━━━━━━━━━━━━━━━━\u001b[0m\u001b[37m\u001b[0m \u001b[1m9s\u001b[0m 43ms/step - accuracy: 0.8888 - auc: 0.9545 - loss: 0.2813 - precision: 0.8885 - recall: 0.8937 - val_accuracy: 0.8600 - val_auc: 0.9334 - val_loss: 0.3351 - val_precision: 0.8358 - val_recall: 0.8872\n",
      "Epoch 56/200\n",
      "\u001b[1m219/219\u001b[0m \u001b[32m━━━━━━━━━━━━━━━━━━━━\u001b[0m\u001b[37m\u001b[0m \u001b[1m9s\u001b[0m 39ms/step - accuracy: 0.8855 - auc: 0.9509 - loss: 0.2869 - precision: 0.8863 - recall: 0.8846 - val_accuracy: 0.8613 - val_auc: 0.9379 - val_loss: 0.3250 - val_precision: 0.8371 - val_recall: 0.8886\n",
      "Epoch 57/200\n",
      "\u001b[1m219/219\u001b[0m \u001b[32m━━━━━━━━━━━━━━━━━━━━\u001b[0m\u001b[37m\u001b[0m \u001b[1m9s\u001b[0m 42ms/step - accuracy: 0.8941 - auc: 0.9605 - loss: 0.2607 - precision: 0.8957 - recall: 0.8950 - val_accuracy: 0.8520 - val_auc: 0.9333 - val_loss: 0.3379 - val_precision: 0.8341 - val_recall: 0.8694\n",
      "Epoch 58/200\n",
      "\u001b[1m219/219\u001b[0m \u001b[32m━━━━━━━━━━━━━━━━━━━━\u001b[0m\u001b[37m\u001b[0m \u001b[1m9s\u001b[0m 41ms/step - accuracy: 0.8978 - auc: 0.9623 - loss: 0.2560 - precision: 0.9025 - recall: 0.8956 - val_accuracy: 0.8640 - val_auc: 0.9408 - val_loss: 0.3142 - val_precision: 0.8379 - val_recall: 0.8941\n",
      "Epoch 59/200\n",
      "\u001b[1m219/219\u001b[0m \u001b[32m━━━━━━━━━━━━━━━━━━━━\u001b[0m\u001b[37m\u001b[0m \u001b[1m9s\u001b[0m 42ms/step - accuracy: 0.9043 - auc: 0.9659 - loss: 0.2446 - precision: 0.9029 - recall: 0.9062 - val_accuracy: 0.8647 - val_auc: 0.9368 - val_loss: 0.3256 - val_precision: 0.8564 - val_recall: 0.8681\n",
      "Epoch 60/200\n",
      "\u001b[1m219/219\u001b[0m \u001b[32m━━━━━━━━━━━━━━━━━━━━\u001b[0m\u001b[37m\u001b[0m \u001b[1m9s\u001b[0m 40ms/step - accuracy: 0.8966 - auc: 0.9586 - loss: 0.2658 - precision: 0.9009 - recall: 0.8923 - val_accuracy: 0.8727 - val_auc: 0.9433 - val_loss: 0.3071 - val_precision: 0.8467 - val_recall: 0.9023\n",
      "Epoch 61/200\n",
      "\u001b[1m219/219\u001b[0m \u001b[32m━━━━━━━━━━━━━━━━━━━━\u001b[0m\u001b[37m\u001b[0m \u001b[1m9s\u001b[0m 42ms/step - accuracy: 0.9027 - auc: 0.9635 - loss: 0.2519 - precision: 0.9021 - recall: 0.9094 - val_accuracy: 0.8733 - val_auc: 0.9425 - val_loss: 0.3100 - val_precision: 0.8865 - val_recall: 0.8489\n",
      "Epoch 62/200\n",
      "\u001b[1m219/219\u001b[0m \u001b[32m━━━━━━━━━━━━━━━━━━━━\u001b[0m\u001b[37m\u001b[0m \u001b[1m9s\u001b[0m 40ms/step - accuracy: 0.9029 - auc: 0.9640 - loss: 0.2495 - precision: 0.9103 - recall: 0.8992 - val_accuracy: 0.8473 - val_auc: 0.9331 - val_loss: 0.3563 - val_precision: 0.9170 - val_recall: 0.7553\n",
      "Epoch 63/200\n",
      "\u001b[1m219/219\u001b[0m \u001b[32m━━━━━━━━━━━━━━━━━━━━\u001b[0m\u001b[37m\u001b[0m \u001b[1m9s\u001b[0m 39ms/step - accuracy: 0.8998 - auc: 0.9645 - loss: 0.2519 - precision: 0.8993 - recall: 0.9039 - val_accuracy: 0.8617 - val_auc: 0.9395 - val_loss: 0.3276 - val_precision: 0.8263 - val_recall: 0.9070\n",
      "Epoch 64/200\n",
      "\u001b[1m219/219\u001b[0m \u001b[32m━━━━━━━━━━━━━━━━━━━━\u001b[0m\u001b[37m\u001b[0m \u001b[1m9s\u001b[0m 41ms/step - accuracy: 0.9049 - auc: 0.9642 - loss: 0.2443 - precision: 0.9043 - recall: 0.9064 - val_accuracy: 0.8637 - val_auc: 0.9384 - val_loss: 0.3184 - val_precision: 0.8595 - val_recall: 0.8612\n",
      "Epoch 65/200\n",
      "\u001b[1m219/219\u001b[0m \u001b[32m━━━━━━━━━━━━━━━━━━━━\u001b[0m\u001b[37m\u001b[0m \u001b[1m9s\u001b[0m 40ms/step - accuracy: 0.9007 - auc: 0.9644 - loss: 0.2491 - precision: 0.9008 - recall: 0.9058 - val_accuracy: 0.8477 - val_auc: 0.9342 - val_loss: 0.3536 - val_precision: 0.8026 - val_recall: 0.9118\n",
      "Epoch 66/200\n",
      "\u001b[1m219/219\u001b[0m \u001b[32m━━━━━━━━━━━━━━━━━━━━\u001b[0m\u001b[37m\u001b[0m \u001b[1m9s\u001b[0m 39ms/step - accuracy: 0.9114 - auc: 0.9649 - loss: 0.2413 - precision: 0.9105 - recall: 0.9165 - val_accuracy: 0.8633 - val_auc: 0.9366 - val_loss: 0.3310 - val_precision: 0.8448 - val_recall: 0.8817\n",
      "Epoch 67/200\n",
      "\u001b[1m219/219\u001b[0m \u001b[32m━━━━━━━━━━━━━━━━━━━━\u001b[0m\u001b[37m\u001b[0m \u001b[1m9s\u001b[0m 40ms/step - accuracy: 0.9051 - auc: 0.9652 - loss: 0.2423 - precision: 0.9137 - recall: 0.9019 - val_accuracy: 0.8677 - val_auc: 0.9426 - val_loss: 0.3095 - val_precision: 0.8572 - val_recall: 0.8742\n",
      "Epoch 68/200\n",
      "\u001b[1m219/219\u001b[0m \u001b[32m━━━━━━━━━━━━━━━━━━━━\u001b[0m\u001b[37m\u001b[0m \u001b[1m9s\u001b[0m 41ms/step - accuracy: 0.9217 - auc: 0.9720 - loss: 0.2190 - precision: 0.9245 - recall: 0.9230 - val_accuracy: 0.8587 - val_auc: 0.9370 - val_loss: 0.3398 - val_precision: 0.8735 - val_recall: 0.8305\n",
      "Epoch 69/200\n",
      "\u001b[1m219/219\u001b[0m \u001b[32m━━━━━━━━━━━━━━━━━━━━\u001b[0m\u001b[37m\u001b[0m \u001b[1m8s\u001b[0m 39ms/step - accuracy: 0.9136 - auc: 0.9710 - loss: 0.2243 - precision: 0.9093 - recall: 0.9162 - val_accuracy: 0.8637 - val_auc: 0.9393 - val_loss: 0.3253 - val_precision: 0.8727 - val_recall: 0.8435\n",
      "Epoch 70/200\n",
      "\u001b[1m219/219\u001b[0m \u001b[32m━━━━━━━━━━━━━━━━━━━━\u001b[0m\u001b[37m\u001b[0m \u001b[1m9s\u001b[0m 40ms/step - accuracy: 0.9226 - auc: 0.9754 - loss: 0.2052 - precision: 0.9253 - recall: 0.9211 - val_accuracy: 0.8667 - val_auc: 0.9410 - val_loss: 0.3149 - val_precision: 0.8603 - val_recall: 0.8674\n",
      "Epoch 71/200\n",
      "\u001b[1m219/219\u001b[0m \u001b[32m━━━━━━━━━━━━━━━━━━━━\u001b[0m\u001b[37m\u001b[0m \u001b[1m9s\u001b[0m 39ms/step - accuracy: 0.9224 - auc: 0.9739 - loss: 0.2117 - precision: 0.9248 - recall: 0.9191 - val_accuracy: 0.8680 - val_auc: 0.9420 - val_loss: 0.3172 - val_precision: 0.8400 - val_recall: 0.9009\n",
      "Epoch 72/200\n",
      "\u001b[1m219/219\u001b[0m \u001b[32m━━━━━━━━━━━━━━━━━━━━\u001b[0m\u001b[37m\u001b[0m \u001b[1m9s\u001b[0m 39ms/step - accuracy: 0.9242 - auc: 0.9741 - loss: 0.2082 - precision: 0.9262 - recall: 0.9226 - val_accuracy: 0.8580 - val_auc: 0.9394 - val_loss: 0.3364 - val_precision: 0.9035 - val_recall: 0.7936\n",
      "Epoch 73/200\n",
      "\u001b[1m219/219\u001b[0m \u001b[32m━━━━━━━━━━━━━━━━━━━━\u001b[0m\u001b[37m\u001b[0m \u001b[1m9s\u001b[0m 39ms/step - accuracy: 0.9140 - auc: 0.9707 - loss: 0.2217 - precision: 0.9192 - recall: 0.9123 - val_accuracy: 0.8597 - val_auc: 0.9404 - val_loss: 0.3415 - val_precision: 0.9102 - val_recall: 0.7902\n",
      "Epoch 74/200\n",
      "\u001b[1m219/219\u001b[0m \u001b[32m━━━━━━━━━━━━━━━━━━━━\u001b[0m\u001b[37m\u001b[0m \u001b[1m8s\u001b[0m 38ms/step - accuracy: 0.9129 - auc: 0.9710 - loss: 0.2235 - precision: 0.9147 - recall: 0.9136 - val_accuracy: 0.8533 - val_auc: 0.9361 - val_loss: 0.3455 - val_precision: 0.8132 - val_recall: 0.9077\n",
      "Epoch 75/200\n",
      "\u001b[1m219/219\u001b[0m \u001b[32m━━━━━━━━━━━━━━━━━━━━\u001b[0m\u001b[37m\u001b[0m \u001b[1m9s\u001b[0m 39ms/step - accuracy: 0.9251 - auc: 0.9762 - loss: 0.1995 - precision: 0.9226 - recall: 0.9337 - val_accuracy: 0.8557 - val_auc: 0.9387 - val_loss: 0.3322 - val_precision: 0.8215 - val_recall: 0.8995\n",
      "Epoch 76/200\n",
      "\u001b[1m219/219\u001b[0m \u001b[32m━━━━━━━━━━━━━━━━━━━━\u001b[0m\u001b[37m\u001b[0m \u001b[1m8s\u001b[0m 38ms/step - accuracy: 0.9229 - auc: 0.9746 - loss: 0.2074 - precision: 0.9253 - recall: 0.9228 - val_accuracy: 0.8653 - val_auc: 0.9427 - val_loss: 0.3219 - val_precision: 0.8414 - val_recall: 0.8920\n",
      "Epoch 77/200\n",
      "\u001b[1m219/219\u001b[0m \u001b[32m━━━━━━━━━━━━━━━━━━━━\u001b[0m\u001b[37m\u001b[0m \u001b[1m9s\u001b[0m 40ms/step - accuracy: 0.9253 - auc: 0.9761 - loss: 0.2030 - precision: 0.9245 - recall: 0.9286 - val_accuracy: 0.8647 - val_auc: 0.9373 - val_loss: 0.3294 - val_precision: 0.8407 - val_recall: 0.8913\n",
      "Epoch 78/200\n",
      "\u001b[1m219/219\u001b[0m \u001b[32m━━━━━━━━━━━━━━━━━━━━\u001b[0m\u001b[37m\u001b[0m \u001b[1m9s\u001b[0m 40ms/step - accuracy: 0.9227 - auc: 0.9737 - loss: 0.2091 - precision: 0.9218 - recall: 0.9244 - val_accuracy: 0.8683 - val_auc: 0.9415 - val_loss: 0.3169 - val_precision: 0.8603 - val_recall: 0.8715\n",
      "Epoch 79/200\n",
      "\u001b[1m219/219\u001b[0m \u001b[32m━━━━━━━━━━━━━━━━━━━━\u001b[0m\u001b[37m\u001b[0m \u001b[1m9s\u001b[0m 39ms/step - accuracy: 0.9216 - auc: 0.9741 - loss: 0.2064 - precision: 0.9284 - recall: 0.9185 - val_accuracy: 0.6323 - val_auc: 0.9069 - val_loss: 0.9052 - val_precision: 0.5706 - val_recall: 0.9945\n",
      "Epoch 80/200\n",
      "\u001b[1m219/219\u001b[0m \u001b[32m━━━━━━━━━━━━━━━━━━━━\u001b[0m\u001b[37m\u001b[0m \u001b[1m9s\u001b[0m 39ms/step - accuracy: 0.7875 - auc: 0.8993 - loss: 0.4543 - precision: 0.7347 - recall: 0.9330 - val_accuracy: 0.8630 - val_auc: 0.9375 - val_loss: 0.3211 - val_precision: 0.8559 - val_recall: 0.8647\n",
      "Epoch 81/200\n",
      "\u001b[1m219/219\u001b[0m \u001b[32m━━━━━━━━━━━━━━━━━━━━\u001b[0m\u001b[37m\u001b[0m \u001b[1m9s\u001b[0m 40ms/step - accuracy: 0.9123 - auc: 0.9719 - loss: 0.2209 - precision: 0.9168 - recall: 0.9091 - val_accuracy: 0.8610 - val_auc: 0.9384 - val_loss: 0.3270 - val_precision: 0.8473 - val_recall: 0.8722\n",
      "Epoch 82/200\n",
      "\u001b[1m219/219\u001b[0m \u001b[32m━━━━━━━━━━━━━━━━━━━━\u001b[0m\u001b[37m\u001b[0m \u001b[1m9s\u001b[0m 40ms/step - accuracy: 0.9180 - auc: 0.9742 - loss: 0.2121 - precision: 0.9199 - recall: 0.9188 - val_accuracy: 0.8707 - val_auc: 0.9428 - val_loss: 0.3177 - val_precision: 0.8961 - val_recall: 0.8312\n",
      "Epoch 83/200\n",
      "\u001b[1m219/219\u001b[0m \u001b[32m━━━━━━━━━━━━━━━━━━━━\u001b[0m\u001b[37m\u001b[0m \u001b[1m8s\u001b[0m 38ms/step - accuracy: 0.9292 - auc: 0.9781 - loss: 0.1924 - precision: 0.9284 - recall: 0.9336 - val_accuracy: 0.8640 - val_auc: 0.9401 - val_loss: 0.3290 - val_precision: 0.8567 - val_recall: 0.8660\n",
      "Epoch 84/200\n",
      "\u001b[1m219/219\u001b[0m \u001b[32m━━━━━━━━━━━━━━━━━━━━\u001b[0m\u001b[37m\u001b[0m \u001b[1m9s\u001b[0m 39ms/step - accuracy: 0.9308 - auc: 0.9771 - loss: 0.1945 - precision: 0.9340 - recall: 0.9311 - val_accuracy: 0.8680 - val_auc: 0.9433 - val_loss: 0.3142 - val_precision: 0.8754 - val_recall: 0.8503\n",
      "Epoch 85/200\n",
      "\u001b[1m219/219\u001b[0m \u001b[32m━━━━━━━━━━━━━━━━━━━━\u001b[0m\u001b[37m\u001b[0m \u001b[1m8s\u001b[0m 38ms/step - accuracy: 0.9313 - auc: 0.9801 - loss: 0.1864 - precision: 0.9294 - recall: 0.9344 - val_accuracy: 0.8670 - val_auc: 0.9407 - val_loss: 0.3244 - val_precision: 0.8533 - val_recall: 0.8783\n",
      "Epoch 86/200\n",
      "\u001b[1m219/219\u001b[0m \u001b[32m━━━━━━━━━━━━━━━━━━━━\u001b[0m\u001b[37m\u001b[0m \u001b[1m9s\u001b[0m 40ms/step - accuracy: 0.9355 - auc: 0.9823 - loss: 0.1770 - precision: 0.9330 - recall: 0.9407 - val_accuracy: 0.8720 - val_auc: 0.9431 - val_loss: 0.3123 - val_precision: 0.8492 - val_recall: 0.8968\n",
      "Epoch 87/200\n",
      "\u001b[1m219/219\u001b[0m \u001b[32m━━━━━━━━━━━━━━━━━━━━\u001b[0m\u001b[37m\u001b[0m \u001b[1m9s\u001b[0m 39ms/step - accuracy: 0.9320 - auc: 0.9816 - loss: 0.1800 - precision: 0.9297 - recall: 0.9380 - val_accuracy: 0.8687 - val_auc: 0.9416 - val_loss: 0.3192 - val_precision: 0.8751 - val_recall: 0.8524\n",
      "Epoch 88/200\n",
      "\u001b[1m219/219\u001b[0m \u001b[32m━━━━━━━━━━━━━━━━━━━━\u001b[0m\u001b[37m\u001b[0m \u001b[1m9s\u001b[0m 39ms/step - accuracy: 0.9347 - auc: 0.9825 - loss: 0.1737 - precision: 0.9359 - recall: 0.9345 - val_accuracy: 0.8587 - val_auc: 0.9359 - val_loss: 0.3533 - val_precision: 0.8999 - val_recall: 0.7990\n",
      "Epoch 89/200\n",
      "\u001b[1m219/219\u001b[0m \u001b[32m━━━━━━━━━━━━━━━━━━━━\u001b[0m\u001b[37m\u001b[0m \u001b[1m9s\u001b[0m 40ms/step - accuracy: 0.9225 - auc: 0.9789 - loss: 0.1915 - precision: 0.9306 - recall: 0.9165 - val_accuracy: 0.8710 - val_auc: 0.9365 - val_loss: 0.3478 - val_precision: 0.8449 - val_recall: 0.9009\n",
      "Epoch 90/200\n",
      "\u001b[1m219/219\u001b[0m \u001b[32m━━━━━━━━━━━━━━━━━━━━\u001b[0m\u001b[37m\u001b[0m \u001b[1m9s\u001b[0m 39ms/step - accuracy: 0.9232 - auc: 0.9764 - loss: 0.2007 - precision: 0.9168 - recall: 0.9321 - val_accuracy: 0.8677 - val_auc: 0.9423 - val_loss: 0.3149 - val_precision: 0.8738 - val_recall: 0.8517\n",
      "Epoch 91/200\n",
      "\u001b[1m219/219\u001b[0m \u001b[32m━━━━━━━━━━━━━━━━━━━━\u001b[0m\u001b[37m\u001b[0m \u001b[1m9s\u001b[0m 40ms/step - accuracy: 0.9255 - auc: 0.9800 - loss: 0.1872 - precision: 0.9266 - recall: 0.9274 - val_accuracy: 0.8623 - val_auc: 0.9406 - val_loss: 0.3269 - val_precision: 0.8606 - val_recall: 0.8565\n",
      "Epoch 92/200\n",
      "\u001b[1m219/219\u001b[0m \u001b[32m━━━━━━━━━━━━━━━━━━━━\u001b[0m\u001b[37m\u001b[0m \u001b[1m9s\u001b[0m 40ms/step - accuracy: 0.9317 - auc: 0.9823 - loss: 0.1743 - precision: 0.9286 - recall: 0.9350 - val_accuracy: 0.8663 - val_auc: 0.9417 - val_loss: 0.3271 - val_precision: 0.8975 - val_recall: 0.8195\n",
      "Epoch 93/200\n",
      "\u001b[1m219/219\u001b[0m \u001b[32m━━━━━━━━━━━━━━━━━━━━\u001b[0m\u001b[37m\u001b[0m \u001b[1m9s\u001b[0m 39ms/step - accuracy: 0.9295 - auc: 0.9807 - loss: 0.1810 - precision: 0.9318 - recall: 0.9265 - val_accuracy: 0.8723 - val_auc: 0.9406 - val_loss: 0.3250 - val_precision: 0.8902 - val_recall: 0.8421\n",
      "Epoch 94/200\n",
      "\u001b[1m219/219\u001b[0m \u001b[32m━━━━━━━━━━━━━━━━━━━━\u001b[0m\u001b[37m\u001b[0m \u001b[1m9s\u001b[0m 39ms/step - accuracy: 0.9377 - auc: 0.9839 - loss: 0.1673 - precision: 0.9424 - recall: 0.9328 - val_accuracy: 0.8710 - val_auc: 0.9429 - val_loss: 0.3235 - val_precision: 0.8418 - val_recall: 0.9057\n",
      "Epoch 95/200\n",
      "\u001b[1m219/219\u001b[0m \u001b[32m━━━━━━━━━━━━━━━━━━━━\u001b[0m\u001b[37m\u001b[0m \u001b[1m9s\u001b[0m 40ms/step - accuracy: 0.9427 - auc: 0.9865 - loss: 0.1539 - precision: 0.9438 - recall: 0.9417 - val_accuracy: 0.8670 - val_auc: 0.9409 - val_loss: 0.3340 - val_precision: 0.8367 - val_recall: 0.9036\n",
      "Epoch 96/200\n",
      "\u001b[1m219/219\u001b[0m \u001b[32m━━━━━━━━━━━━━━━━━━━━\u001b[0m\u001b[37m\u001b[0m \u001b[1m9s\u001b[0m 42ms/step - accuracy: 0.9439 - auc: 0.9843 - loss: 0.1601 - precision: 0.9432 - recall: 0.9468 - val_accuracy: 0.8723 - val_auc: 0.9436 - val_loss: 0.3102 - val_precision: 0.8664 - val_recall: 0.8729\n",
      "Epoch 97/200\n",
      "\u001b[1m219/219\u001b[0m \u001b[32m━━━━━━━━━━━━━━━━━━━━\u001b[0m\u001b[37m\u001b[0m \u001b[1m9s\u001b[0m 40ms/step - accuracy: 0.9400 - auc: 0.9832 - loss: 0.1663 - precision: 0.9398 - recall: 0.9418 - val_accuracy: 0.8750 - val_auc: 0.9436 - val_loss: 0.3158 - val_precision: 0.8588 - val_recall: 0.8900\n",
      "Epoch 98/200\n",
      "\u001b[1m219/219\u001b[0m \u001b[32m━━━━━━━━━━━━━━━━━━━━\u001b[0m\u001b[37m\u001b[0m \u001b[1m9s\u001b[0m 41ms/step - accuracy: 0.9420 - auc: 0.9852 - loss: 0.1610 - precision: 0.9349 - recall: 0.9516 - val_accuracy: 0.8800 - val_auc: 0.9468 - val_loss: 0.3033 - val_precision: 0.8953 - val_recall: 0.8537\n",
      "Epoch 99/200\n",
      "\u001b[1m219/219\u001b[0m \u001b[32m━━━━━━━━━━━━━━━━━━━━\u001b[0m\u001b[37m\u001b[0m \u001b[1m9s\u001b[0m 42ms/step - accuracy: 0.9440 - auc: 0.9859 - loss: 0.1535 - precision: 0.9451 - recall: 0.9452 - val_accuracy: 0.8717 - val_auc: 0.9446 - val_loss: 0.3121 - val_precision: 0.8505 - val_recall: 0.8941\n",
      "Epoch 100/200\n",
      "\u001b[1m219/219\u001b[0m \u001b[32m━━━━━━━━━━━━━━━━━━━━\u001b[0m\u001b[37m\u001b[0m \u001b[1m9s\u001b[0m 40ms/step - accuracy: 0.9452 - auc: 0.9870 - loss: 0.1500 - precision: 0.9424 - recall: 0.9522 - val_accuracy: 0.8580 - val_auc: 0.9362 - val_loss: 0.3317 - val_precision: 0.8669 - val_recall: 0.8373\n",
      "Epoch 101/200\n",
      "\u001b[1m219/219\u001b[0m \u001b[32m━━━━━━━━━━━━━━━━━━━━\u001b[0m\u001b[37m\u001b[0m \u001b[1m9s\u001b[0m 40ms/step - accuracy: 0.9350 - auc: 0.9829 - loss: 0.1732 - precision: 0.9371 - recall: 0.9355 - val_accuracy: 0.8680 - val_auc: 0.9437 - val_loss: 0.3263 - val_precision: 0.8841 - val_recall: 0.8394\n",
      "Epoch 102/200\n",
      "\u001b[1m219/219\u001b[0m \u001b[32m━━━━━━━━━━━━━━━━━━━━\u001b[0m\u001b[37m\u001b[0m \u001b[1m10s\u001b[0m 46ms/step - accuracy: 0.9471 - auc: 0.9875 - loss: 0.1462 - precision: 0.9486 - recall: 0.9456 - val_accuracy: 0.8647 - val_auc: 0.9408 - val_loss: 0.3553 - val_precision: 0.8297 - val_recall: 0.9091\n",
      "Epoch 103/200\n",
      "\u001b[1m219/219\u001b[0m \u001b[32m━━━━━━━━━━━━━━━━━━━━\u001b[0m\u001b[37m\u001b[0m \u001b[1m10s\u001b[0m 46ms/step - accuracy: 0.9387 - auc: 0.9837 - loss: 0.1624 - precision: 0.9413 - recall: 0.9353 - val_accuracy: 0.8657 - val_auc: 0.9411 - val_loss: 0.3385 - val_precision: 0.8640 - val_recall: 0.8599\n",
      "Epoch 104/200\n",
      "\u001b[1m219/219\u001b[0m \u001b[32m━━━━━━━━━━━━━━━━━━━━\u001b[0m\u001b[37m\u001b[0m \u001b[1m9s\u001b[0m 42ms/step - accuracy: 0.9388 - auc: 0.9846 - loss: 0.1595 - precision: 0.9400 - recall: 0.9367 - val_accuracy: 0.8667 - val_auc: 0.9424 - val_loss: 0.3204 - val_precision: 0.8476 - val_recall: 0.8859\n",
      "Epoch 105/200\n",
      "\u001b[1m219/219\u001b[0m \u001b[32m━━━━━━━━━━━━━━━━━━━━\u001b[0m\u001b[37m\u001b[0m \u001b[1m10s\u001b[0m 43ms/step - accuracy: 0.9411 - auc: 0.9863 - loss: 0.1551 - precision: 0.9477 - recall: 0.9368 - val_accuracy: 0.8657 - val_auc: 0.9420 - val_loss: 0.3344 - val_precision: 0.8645 - val_recall: 0.8592\n",
      "Epoch 106/200\n",
      "\u001b[1m219/219\u001b[0m \u001b[32m━━━━━━━━━━━━━━━━━━━━\u001b[0m\u001b[37m\u001b[0m \u001b[1m10s\u001b[0m 44ms/step - accuracy: 0.9478 - auc: 0.9898 - loss: 0.1353 - precision: 0.9508 - recall: 0.9469 - val_accuracy: 0.8723 - val_auc: 0.9413 - val_loss: 0.3377 - val_precision: 0.8750 - val_recall: 0.8612\n",
      "Epoch 107/200\n",
      "\u001b[1m219/219\u001b[0m \u001b[32m━━━━━━━━━━━━━━━━━━━━\u001b[0m\u001b[37m\u001b[0m \u001b[1m9s\u001b[0m 43ms/step - accuracy: 0.9516 - auc: 0.9894 - loss: 0.1347 - precision: 0.9515 - recall: 0.9498 - val_accuracy: 0.8697 - val_auc: 0.9442 - val_loss: 0.3288 - val_precision: 0.8436 - val_recall: 0.8995\n",
      "Epoch 108/200\n",
      "\u001b[1m219/219\u001b[0m \u001b[32m━━━━━━━━━━━━━━━━━━━━\u001b[0m\u001b[37m\u001b[0m \u001b[1m10s\u001b[0m 44ms/step - accuracy: 0.9442 - auc: 0.9883 - loss: 0.1431 - precision: 0.9436 - recall: 0.9433 - val_accuracy: 0.8677 - val_auc: 0.9420 - val_loss: 0.3427 - val_precision: 0.8616 - val_recall: 0.8681\n",
      "Epoch 109/200\n",
      "\u001b[1m219/219\u001b[0m \u001b[32m━━━━━━━━━━━━━━━━━━━━\u001b[0m\u001b[37m\u001b[0m \u001b[1m9s\u001b[0m 41ms/step - accuracy: 0.9490 - auc: 0.9903 - loss: 0.1306 - precision: 0.9493 - recall: 0.9488 - val_accuracy: 0.8657 - val_auc: 0.9390 - val_loss: 0.3490 - val_precision: 0.8419 - val_recall: 0.8920\n",
      "Epoch 110/200\n",
      "\u001b[1m219/219\u001b[0m \u001b[32m━━━━━━━━━━━━━━━━━━━━\u001b[0m\u001b[37m\u001b[0m \u001b[1m9s\u001b[0m 40ms/step - accuracy: 0.9486 - auc: 0.9877 - loss: 0.1419 - precision: 0.9457 - recall: 0.9535 - val_accuracy: 0.8603 - val_auc: 0.9408 - val_loss: 0.3600 - val_precision: 0.8713 - val_recall: 0.8373\n",
      "Epoch 111/200\n",
      "\u001b[1m219/219\u001b[0m \u001b[32m━━━━━━━━━━━━━━━━━━━━\u001b[0m\u001b[37m\u001b[0m \u001b[1m9s\u001b[0m 41ms/step - accuracy: 0.9438 - auc: 0.9856 - loss: 0.1520 - precision: 0.9386 - recall: 0.9503 - val_accuracy: 0.8537 - val_auc: 0.9378 - val_loss: 0.3662 - val_precision: 0.8286 - val_recall: 0.8824\n",
      "Epoch 112/200\n",
      "\u001b[1m219/219\u001b[0m \u001b[32m━━━━━━━━━━━━━━━━━━━━\u001b[0m\u001b[37m\u001b[0m \u001b[1m9s\u001b[0m 41ms/step - accuracy: 0.9482 - auc: 0.9883 - loss: 0.1431 - precision: 0.9434 - recall: 0.9553 - val_accuracy: 0.8713 - val_auc: 0.9432 - val_loss: 0.3327 - val_precision: 0.8774 - val_recall: 0.8558\n",
      "Epoch 113/200\n",
      "\u001b[1m219/219\u001b[0m \u001b[32m━━━━━━━━━━━━━━━━━━━━\u001b[0m\u001b[37m\u001b[0m \u001b[1m9s\u001b[0m 40ms/step - accuracy: 0.9486 - auc: 0.9859 - loss: 0.1479 - precision: 0.9488 - recall: 0.9500 - val_accuracy: 0.8717 - val_auc: 0.9446 - val_loss: 0.3238 - val_precision: 0.8780 - val_recall: 0.8558\n",
      "Epoch 114/200\n",
      "\u001b[1m219/219\u001b[0m \u001b[32m━━━━━━━━━━━━━━━━━━━━\u001b[0m\u001b[37m\u001b[0m \u001b[1m9s\u001b[0m 40ms/step - accuracy: 0.9488 - auc: 0.9875 - loss: 0.1457 - precision: 0.9440 - recall: 0.9558 - val_accuracy: 0.8557 - val_auc: 0.9457 - val_loss: 0.3434 - val_precision: 0.8044 - val_recall: 0.9303\n",
      "Epoch 115/200\n",
      "\u001b[1m219/219\u001b[0m \u001b[32m━━━━━━━━━━━━━━━━━━━━\u001b[0m\u001b[37m\u001b[0m \u001b[1m9s\u001b[0m 40ms/step - accuracy: 0.9513 - auc: 0.9882 - loss: 0.1412 - precision: 0.9472 - recall: 0.9572 - val_accuracy: 0.8607 - val_auc: 0.9397 - val_loss: 0.3498 - val_precision: 0.8986 - val_recall: 0.8052\n",
      "Epoch 116/200\n",
      "\u001b[1m219/219\u001b[0m \u001b[32m━━━━━━━━━━━━━━━━━━━━\u001b[0m\u001b[37m\u001b[0m \u001b[1m9s\u001b[0m 41ms/step - accuracy: 0.9456 - auc: 0.9868 - loss: 0.1486 - precision: 0.9467 - recall: 0.9455 - val_accuracy: 0.8770 - val_auc: 0.9469 - val_loss: 0.3130 - val_precision: 0.8706 - val_recall: 0.8783\n",
      "Epoch 117/200\n",
      "\u001b[1m219/219\u001b[0m \u001b[32m━━━━━━━━━━━━━━━━━━━━\u001b[0m\u001b[37m\u001b[0m \u001b[1m9s\u001b[0m 40ms/step - accuracy: 0.9536 - auc: 0.9907 - loss: 0.1284 - precision: 0.9567 - recall: 0.9517 - val_accuracy: 0.8780 - val_auc: 0.9467 - val_loss: 0.3172 - val_precision: 0.8943 - val_recall: 0.8503\n",
      "Epoch 118/200\n",
      "\u001b[1m219/219\u001b[0m \u001b[32m━━━━━━━━━━━━━━━━━━━━\u001b[0m\u001b[37m\u001b[0m \u001b[1m9s\u001b[0m 39ms/step - accuracy: 0.9570 - auc: 0.9921 - loss: 0.1181 - precision: 0.9598 - recall: 0.9553 - val_accuracy: 0.8627 - val_auc: 0.9411 - val_loss: 0.3669 - val_precision: 0.8936 - val_recall: 0.8154\n",
      "Epoch 119/200\n",
      "\u001b[1m219/219\u001b[0m \u001b[32m━━━━━━━━━━━━━━━━━━━━\u001b[0m\u001b[37m\u001b[0m \u001b[1m9s\u001b[0m 41ms/step - accuracy: 0.9542 - auc: 0.9899 - loss: 0.1297 - precision: 0.9485 - recall: 0.9587 - val_accuracy: 0.8700 - val_auc: 0.9410 - val_loss: 0.3456 - val_precision: 0.8896 - val_recall: 0.8373\n",
      "Epoch 120/200\n",
      "\u001b[1m219/219\u001b[0m \u001b[32m━━━━━━━━━━━━━━━━━━━━\u001b[0m\u001b[37m\u001b[0m \u001b[1m9s\u001b[0m 41ms/step - accuracy: 0.9543 - auc: 0.9914 - loss: 0.1224 - precision: 0.9535 - recall: 0.9559 - val_accuracy: 0.8653 - val_auc: 0.9409 - val_loss: 0.3585 - val_precision: 0.8405 - val_recall: 0.8934\n",
      "Epoch 121/200\n",
      "\u001b[1m219/219\u001b[0m \u001b[32m━━━━━━━━━━━━━━━━━━━━\u001b[0m\u001b[37m\u001b[0m \u001b[1m9s\u001b[0m 39ms/step - accuracy: 0.9576 - auc: 0.9914 - loss: 0.1192 - precision: 0.9509 - recall: 0.9672 - val_accuracy: 0.8703 - val_auc: 0.9460 - val_loss: 0.3301 - val_precision: 0.8897 - val_recall: 0.8380\n",
      "Epoch 122/200\n",
      "\u001b[1m219/219\u001b[0m \u001b[32m━━━━━━━━━━━━━━━━━━━━\u001b[0m\u001b[37m\u001b[0m \u001b[1m9s\u001b[0m 40ms/step - accuracy: 0.9623 - auc: 0.9929 - loss: 0.1098 - precision: 0.9625 - recall: 0.9628 - val_accuracy: 0.8680 - val_auc: 0.9436 - val_loss: 0.3310 - val_precision: 0.8718 - val_recall: 0.8551\n",
      "Epoch 123/200\n",
      "\u001b[1m219/219\u001b[0m \u001b[32m━━━━━━━━━━━━━━━━━━━━\u001b[0m\u001b[37m\u001b[0m \u001b[1m9s\u001b[0m 41ms/step - accuracy: 0.9549 - auc: 0.9916 - loss: 0.1220 - precision: 0.9524 - recall: 0.9600 - val_accuracy: 0.8570 - val_auc: 0.9321 - val_loss: 0.4123 - val_precision: 0.8353 - val_recall: 0.8804\n",
      "Epoch 124/200\n",
      "\u001b[1m219/219\u001b[0m \u001b[32m━━━━━━━━━━━━━━━━━━━━\u001b[0m\u001b[37m\u001b[0m \u001b[1m9s\u001b[0m 39ms/step - accuracy: 0.9606 - auc: 0.9918 - loss: 0.1147 - precision: 0.9639 - recall: 0.9579 - val_accuracy: 0.8680 - val_auc: 0.9394 - val_loss: 0.3597 - val_precision: 0.8754 - val_recall: 0.8503\n",
      "Epoch 125/200\n",
      "\u001b[1m219/219\u001b[0m \u001b[32m━━━━━━━━━━━━━━━━━━━━\u001b[0m\u001b[37m\u001b[0m \u001b[1m9s\u001b[0m 39ms/step - accuracy: 0.9576 - auc: 0.9921 - loss: 0.1152 - precision: 0.9618 - recall: 0.9546 - val_accuracy: 0.8647 - val_auc: 0.9398 - val_loss: 0.3630 - val_precision: 0.8530 - val_recall: 0.8729\n",
      "Epoch 126/200\n",
      "\u001b[1m219/219\u001b[0m \u001b[32m━━━━━━━━━━━━━━━━━━━━\u001b[0m\u001b[37m\u001b[0m \u001b[1m9s\u001b[0m 39ms/step - accuracy: 0.9641 - auc: 0.9931 - loss: 0.1076 - precision: 0.9623 - recall: 0.9666 - val_accuracy: 0.8603 - val_auc: 0.9405 - val_loss: 0.3757 - val_precision: 0.8214 - val_recall: 0.9118\n",
      "Epoch 127/200\n",
      "\u001b[1m219/219\u001b[0m \u001b[32m━━━━━━━━━━━━━━━━━━━━\u001b[0m\u001b[37m\u001b[0m \u001b[1m10s\u001b[0m 45ms/step - accuracy: 0.9618 - auc: 0.9929 - loss: 0.1082 - precision: 0.9614 - recall: 0.9613 - val_accuracy: 0.8573 - val_auc: 0.9337 - val_loss: 0.4061 - val_precision: 0.8319 - val_recall: 0.8865\n",
      "Epoch 128/200\n",
      "\u001b[1m219/219\u001b[0m \u001b[32m━━━━━━━━━━━━━━━━━━━━\u001b[0m\u001b[37m\u001b[0m \u001b[1m9s\u001b[0m 42ms/step - accuracy: 0.9615 - auc: 0.9932 - loss: 0.1079 - precision: 0.9591 - recall: 0.9645 - val_accuracy: 0.8650 - val_auc: 0.9385 - val_loss: 0.3779 - val_precision: 0.8589 - val_recall: 0.8653\n",
      "Epoch 129/200\n",
      "\u001b[1m219/219\u001b[0m \u001b[32m━━━━━━━━━━━━━━━━━━━━\u001b[0m\u001b[37m\u001b[0m \u001b[1m9s\u001b[0m 42ms/step - accuracy: 0.9656 - auc: 0.9948 - loss: 0.0964 - precision: 0.9655 - recall: 0.9665 - val_accuracy: 0.8697 - val_auc: 0.9410 - val_loss: 0.3509 - val_precision: 0.8727 - val_recall: 0.8578\n",
      "Epoch 130/200\n",
      "\u001b[1m219/219\u001b[0m \u001b[32m━━━━━━━━━━━━━━━━━━━━\u001b[0m\u001b[37m\u001b[0m \u001b[1m9s\u001b[0m 41ms/step - accuracy: 0.9569 - auc: 0.9923 - loss: 0.1183 - precision: 0.9498 - recall: 0.9645 - val_accuracy: 0.8650 - val_auc: 0.9365 - val_loss: 0.3658 - val_precision: 0.8536 - val_recall: 0.8729\n",
      "Epoch 131/200\n",
      "\u001b[1m219/219\u001b[0m \u001b[32m━━━━━━━━━━━━━━━━━━━━\u001b[0m\u001b[37m\u001b[0m \u001b[1m9s\u001b[0m 41ms/step - accuracy: 0.9592 - auc: 0.9927 - loss: 0.1125 - precision: 0.9583 - recall: 0.9611 - val_accuracy: 0.8687 - val_auc: 0.9383 - val_loss: 0.3505 - val_precision: 0.8575 - val_recall: 0.8763\n",
      "Epoch 132/200\n",
      "\u001b[1m219/219\u001b[0m \u001b[32m━━━━━━━━━━━━━━━━━━━━\u001b[0m\u001b[37m\u001b[0m \u001b[1m9s\u001b[0m 39ms/step - accuracy: 0.9380 - auc: 0.9849 - loss: 0.1640 - precision: 0.9222 - recall: 0.9583 - val_accuracy: 0.8710 - val_auc: 0.9423 - val_loss: 0.3366 - val_precision: 0.8640 - val_recall: 0.8729\n",
      "Epoch 133/200\n",
      "\u001b[1m219/219\u001b[0m \u001b[32m━━━━━━━━━━━━━━━━━━━━\u001b[0m\u001b[37m\u001b[0m \u001b[1m9s\u001b[0m 41ms/step - accuracy: 0.9615 - auc: 0.9929 - loss: 0.1132 - precision: 0.9592 - recall: 0.9640 - val_accuracy: 0.8677 - val_auc: 0.9434 - val_loss: 0.3489 - val_precision: 0.8972 - val_recall: 0.8230\n",
      "Epoch 134/200\n",
      "\u001b[1m219/219\u001b[0m \u001b[32m━━━━━━━━━━━━━━━━━━━━\u001b[0m\u001b[37m\u001b[0m \u001b[1m9s\u001b[0m 39ms/step - accuracy: 0.9640 - auc: 0.9935 - loss: 0.1058 - precision: 0.9664 - recall: 0.9623 - val_accuracy: 0.8697 - val_auc: 0.9422 - val_loss: 0.3550 - val_precision: 0.8676 - val_recall: 0.8647\n",
      "Epoch 135/200\n",
      "\u001b[1m219/219\u001b[0m \u001b[32m━━━━━━━━━━━━━━━━━━━━\u001b[0m\u001b[37m\u001b[0m \u001b[1m9s\u001b[0m 40ms/step - accuracy: 0.9635 - auc: 0.9924 - loss: 0.1067 - precision: 0.9642 - recall: 0.9629 - val_accuracy: 0.8623 - val_auc: 0.9410 - val_loss: 0.3664 - val_precision: 0.8477 - val_recall: 0.8749\n",
      "Epoch 136/200\n",
      "\u001b[1m219/219\u001b[0m \u001b[32m━━━━━━━━━━━━━━━━━━━━\u001b[0m\u001b[37m\u001b[0m \u001b[1m9s\u001b[0m 40ms/step - accuracy: 0.9572 - auc: 0.9914 - loss: 0.1168 - precision: 0.9621 - recall: 0.9533 - val_accuracy: 0.8677 - val_auc: 0.9425 - val_loss: 0.3558 - val_precision: 0.8786 - val_recall: 0.8455\n",
      "Epoch 137/200\n",
      "\u001b[1m219/219\u001b[0m \u001b[32m━━━━━━━━━━━━━━━━━━━━\u001b[0m\u001b[37m\u001b[0m \u001b[1m9s\u001b[0m 39ms/step - accuracy: 0.9692 - auc: 0.9942 - loss: 0.0969 - precision: 0.9693 - recall: 0.9699 - val_accuracy: 0.8650 - val_auc: 0.9388 - val_loss: 0.3811 - val_precision: 0.8833 - val_recall: 0.8332\n",
      "Epoch 138/200\n",
      "\u001b[1m219/219\u001b[0m \u001b[32m━━━━━━━━━━━━━━━━━━━━\u001b[0m\u001b[37m\u001b[0m \u001b[1m9s\u001b[0m 41ms/step - accuracy: 0.9629 - auc: 0.9928 - loss: 0.1071 - precision: 0.9640 - recall: 0.9628 - val_accuracy: 0.8633 - val_auc: 0.9374 - val_loss: 0.3902 - val_precision: 0.8541 - val_recall: 0.8681\n",
      "Epoch 139/200\n",
      "\u001b[1m219/219\u001b[0m \u001b[32m━━━━━━━━━━━━━━━━━━━━\u001b[0m\u001b[37m\u001b[0m \u001b[1m9s\u001b[0m 41ms/step - accuracy: 0.9682 - auc: 0.9945 - loss: 0.0964 - precision: 0.9683 - recall: 0.9685 - val_accuracy: 0.8720 - val_auc: 0.9431 - val_loss: 0.3377 - val_precision: 0.8594 - val_recall: 0.8817\n",
      "Epoch 140/200\n",
      "\u001b[1m219/219\u001b[0m \u001b[32m━━━━━━━━━━━━━━━━━━━━\u001b[0m\u001b[37m\u001b[0m \u001b[1m9s\u001b[0m 40ms/step - accuracy: 0.9745 - auc: 0.9956 - loss: 0.0890 - precision: 0.9728 - recall: 0.9771 - val_accuracy: 0.8673 - val_auc: 0.9433 - val_loss: 0.3666 - val_precision: 0.8451 - val_recall: 0.8913\n",
      "Epoch 141/200\n",
      "\u001b[1m219/219\u001b[0m \u001b[32m━━━━━━━━━━━━━━━━━━━━\u001b[0m\u001b[37m\u001b[0m \u001b[1m9s\u001b[0m 40ms/step - accuracy: 0.9693 - auc: 0.9951 - loss: 0.0920 - precision: 0.9665 - recall: 0.9738 - val_accuracy: 0.8670 - val_auc: 0.9396 - val_loss: 0.3578 - val_precision: 0.8590 - val_recall: 0.8701\n",
      "Epoch 142/200\n",
      "\u001b[1m219/219\u001b[0m \u001b[32m━━━━━━━━━━━━━━━━━━━━\u001b[0m\u001b[37m\u001b[0m \u001b[1m9s\u001b[0m 40ms/step - accuracy: 0.9692 - auc: 0.9946 - loss: 0.0946 - precision: 0.9688 - recall: 0.9711 - val_accuracy: 0.8660 - val_auc: 0.9389 - val_loss: 0.3680 - val_precision: 0.8841 - val_recall: 0.8346\n",
      "Epoch 143/200\n",
      "\u001b[1m219/219\u001b[0m \u001b[32m━━━━━━━━━━━━━━━━━━━━\u001b[0m\u001b[37m\u001b[0m \u001b[1m9s\u001b[0m 40ms/step - accuracy: 0.9637 - auc: 0.9937 - loss: 0.1050 - precision: 0.9632 - recall: 0.9646 - val_accuracy: 0.8620 - val_auc: 0.9338 - val_loss: 0.4018 - val_precision: 0.8605 - val_recall: 0.8558\n",
      "Epoch 144/200\n",
      "\u001b[1m219/219\u001b[0m \u001b[32m━━━━━━━━━━━━━━━━━━━━\u001b[0m\u001b[37m\u001b[0m \u001b[1m9s\u001b[0m 41ms/step - accuracy: 0.9678 - auc: 0.9941 - loss: 0.0953 - precision: 0.9660 - recall: 0.9705 - val_accuracy: 0.8690 - val_auc: 0.9359 - val_loss: 0.3891 - val_precision: 0.8715 - val_recall: 0.8578\n",
      "Epoch 145/200\n",
      "\u001b[1m219/219\u001b[0m \u001b[32m━━━━━━━━━━━━━━━━━━━━\u001b[0m\u001b[37m\u001b[0m \u001b[1m9s\u001b[0m 40ms/step - accuracy: 0.9643 - auc: 0.9943 - loss: 0.0999 - precision: 0.9644 - recall: 0.9632 - val_accuracy: 0.8717 - val_auc: 0.9391 - val_loss: 0.3829 - val_precision: 0.8455 - val_recall: 0.9016\n",
      "Epoch 146/200\n",
      "\u001b[1m219/219\u001b[0m \u001b[32m━━━━━━━━━━━━━━━━━━━━\u001b[0m\u001b[37m\u001b[0m \u001b[1m9s\u001b[0m 39ms/step - accuracy: 0.9755 - auc: 0.9961 - loss: 0.0820 - precision: 0.9747 - recall: 0.9769 - val_accuracy: 0.8753 - val_auc: 0.9448 - val_loss: 0.3623 - val_precision: 0.8920 - val_recall: 0.8469\n",
      "Epoch 147/200\n",
      "\u001b[1m219/219\u001b[0m \u001b[32m━━━━━━━━━━━━━━━━━━━━\u001b[0m\u001b[37m\u001b[0m \u001b[1m9s\u001b[0m 39ms/step - accuracy: 0.9599 - auc: 0.9921 - loss: 0.1118 - precision: 0.9612 - recall: 0.9572 - val_accuracy: 0.8443 - val_auc: 0.9363 - val_loss: 0.4509 - val_precision: 0.7817 - val_recall: 0.9446\n",
      "Epoch 148/200\n",
      "\u001b[1m219/219\u001b[0m \u001b[32m━━━━━━━━━━━━━━━━━━━━\u001b[0m\u001b[37m\u001b[0m \u001b[1m9s\u001b[0m 40ms/step - accuracy: 0.9571 - auc: 0.9914 - loss: 0.1182 - precision: 0.9548 - recall: 0.9597 - val_accuracy: 0.8660 - val_auc: 0.9373 - val_loss: 0.3954 - val_precision: 0.8841 - val_recall: 0.8346\n",
      "Epoch 149/200\n",
      "\u001b[1m219/219\u001b[0m \u001b[32m━━━━━━━━━━━━━━━━━━━━\u001b[0m\u001b[37m\u001b[0m \u001b[1m9s\u001b[0m 40ms/step - accuracy: 0.9742 - auc: 0.9958 - loss: 0.0818 - precision: 0.9731 - recall: 0.9752 - val_accuracy: 0.8697 - val_auc: 0.9424 - val_loss: 0.3803 - val_precision: 0.8935 - val_recall: 0.8319\n",
      "Epoch 150/200\n",
      "\u001b[1m219/219\u001b[0m \u001b[32m━━━━━━━━━━━━━━━━━━━━\u001b[0m\u001b[37m\u001b[0m \u001b[1m9s\u001b[0m 40ms/step - accuracy: 0.9734 - auc: 0.9961 - loss: 0.0815 - precision: 0.9758 - recall: 0.9719 - val_accuracy: 0.8723 - val_auc: 0.9398 - val_loss: 0.3657 - val_precision: 0.8673 - val_recall: 0.8715\n",
      "Epoch 151/200\n",
      "\u001b[1m219/219\u001b[0m \u001b[32m━━━━━━━━━━━━━━━━━━━━\u001b[0m\u001b[37m\u001b[0m \u001b[1m9s\u001b[0m 39ms/step - accuracy: 0.9681 - auc: 0.9953 - loss: 0.0884 - precision: 0.9674 - recall: 0.9694 - val_accuracy: 0.8723 - val_auc: 0.9403 - val_loss: 0.3807 - val_precision: 0.8590 - val_recall: 0.8831\n",
      "Epoch 152/200\n",
      "\u001b[1m219/219\u001b[0m \u001b[32m━━━━━━━━━━━━━━━━━━━━\u001b[0m\u001b[37m\u001b[0m \u001b[1m9s\u001b[0m 40ms/step - accuracy: 0.9743 - auc: 0.9963 - loss: 0.0794 - precision: 0.9766 - recall: 0.9722 - val_accuracy: 0.8713 - val_auc: 0.9430 - val_loss: 0.3632 - val_precision: 0.8661 - val_recall: 0.8708\n",
      "Epoch 153/200\n",
      "\u001b[1m219/219\u001b[0m \u001b[32m━━━━━━━━━━━━━━━━━━━━\u001b[0m\u001b[37m\u001b[0m \u001b[1m9s\u001b[0m 39ms/step - accuracy: 0.9703 - auc: 0.9951 - loss: 0.0896 - precision: 0.9687 - recall: 0.9732 - val_accuracy: 0.8733 - val_auc: 0.9391 - val_loss: 0.3894 - val_precision: 0.8843 - val_recall: 0.8517\n",
      "Epoch 154/200\n",
      "\u001b[1m219/219\u001b[0m \u001b[32m━━━━━━━━━━━━━━━━━━━━\u001b[0m\u001b[37m\u001b[0m \u001b[1m9s\u001b[0m 39ms/step - accuracy: 0.9711 - auc: 0.9962 - loss: 0.0819 - precision: 0.9673 - recall: 0.9757 - val_accuracy: 0.8667 - val_auc: 0.9379 - val_loss: 0.4130 - val_precision: 0.9067 - val_recall: 0.8100\n",
      "Epoch 155/200\n",
      "\u001b[1m219/219\u001b[0m \u001b[32m━━━━━━━━━━━━━━━━━━━━\u001b[0m\u001b[37m\u001b[0m \u001b[1m9s\u001b[0m 39ms/step - accuracy: 0.9636 - auc: 0.9936 - loss: 0.1046 - precision: 0.9608 - recall: 0.9677 - val_accuracy: 0.8740 - val_auc: 0.9447 - val_loss: 0.3610 - val_precision: 0.8889 - val_recall: 0.8476\n",
      "Epoch 156/200\n",
      "\u001b[1m219/219\u001b[0m \u001b[32m━━━━━━━━━━━━━━━━━━━━\u001b[0m\u001b[37m\u001b[0m \u001b[1m9s\u001b[0m 40ms/step - accuracy: 0.9753 - auc: 0.9964 - loss: 0.0802 - precision: 0.9729 - recall: 0.9781 - val_accuracy: 0.8640 - val_auc: 0.9376 - val_loss: 0.3932 - val_precision: 0.8528 - val_recall: 0.8715\n",
      "Epoch 157/200\n",
      "\u001b[1m219/219\u001b[0m \u001b[32m━━━━━━━━━━━━━━━━━━━━\u001b[0m\u001b[37m\u001b[0m \u001b[1m9s\u001b[0m 40ms/step - accuracy: 0.9715 - auc: 0.9947 - loss: 0.0850 - precision: 0.9765 - recall: 0.9673 - val_accuracy: 0.8683 - val_auc: 0.9417 - val_loss: 0.3585 - val_precision: 0.8509 - val_recall: 0.8852\n",
      "Epoch 158/200\n",
      "\u001b[1m219/219\u001b[0m \u001b[32m━━━━━━━━━━━━━━━━━━━━\u001b[0m\u001b[37m\u001b[0m \u001b[1m9s\u001b[0m 40ms/step - accuracy: 0.9758 - auc: 0.9973 - loss: 0.0727 - precision: 0.9744 - recall: 0.9771 - val_accuracy: 0.8683 - val_auc: 0.9373 - val_loss: 0.4125 - val_precision: 0.8472 - val_recall: 0.8906\n",
      "Epoch 159/200\n",
      "\u001b[1m219/219\u001b[0m \u001b[32m━━━━━━━━━━━━━━━━━━━━\u001b[0m\u001b[37m\u001b[0m \u001b[1m8s\u001b[0m 38ms/step - accuracy: 0.9788 - auc: 0.9967 - loss: 0.0714 - precision: 0.9783 - recall: 0.9794 - val_accuracy: 0.8493 - val_auc: 0.9292 - val_loss: 0.4652 - val_precision: 0.7968 - val_recall: 0.9275\n",
      "Epoch 160/200\n",
      "\u001b[1m219/219\u001b[0m \u001b[32m━━━━━━━━━━━━━━━━━━━━\u001b[0m\u001b[37m\u001b[0m \u001b[1m9s\u001b[0m 39ms/step - accuracy: 0.9674 - auc: 0.9948 - loss: 0.0923 - precision: 0.9655 - recall: 0.9696 - val_accuracy: 0.8747 - val_auc: 0.9401 - val_loss: 0.3879 - val_precision: 0.8836 - val_recall: 0.8558\n",
      "Epoch 161/200\n",
      "\u001b[1m219/219\u001b[0m \u001b[32m━━━━━━━━━━━━━━━━━━━━\u001b[0m\u001b[37m\u001b[0m \u001b[1m8s\u001b[0m 39ms/step - accuracy: 0.9743 - auc: 0.9962 - loss: 0.0744 - precision: 0.9744 - recall: 0.9742 - val_accuracy: 0.8697 - val_auc: 0.9367 - val_loss: 0.4205 - val_precision: 0.8418 - val_recall: 0.9023\n",
      "Epoch 162/200\n",
      "\u001b[1m219/219\u001b[0m \u001b[32m━━━━━━━━━━━━━━━━━━━━\u001b[0m\u001b[37m\u001b[0m \u001b[1m9s\u001b[0m 39ms/step - accuracy: 0.9764 - auc: 0.9968 - loss: 0.0716 - precision: 0.9729 - recall: 0.9802 - val_accuracy: 0.8717 - val_auc: 0.9430 - val_loss: 0.3750 - val_precision: 0.8728 - val_recall: 0.8626\n",
      "Epoch 163/200\n",
      "\u001b[1m219/219\u001b[0m \u001b[32m━━━━━━━━━━━━━━━━━━━━\u001b[0m\u001b[37m\u001b[0m \u001b[1m9s\u001b[0m 39ms/step - accuracy: 0.9722 - auc: 0.9968 - loss: 0.0762 - precision: 0.9743 - recall: 0.9712 - val_accuracy: 0.8680 - val_auc: 0.9330 - val_loss: 0.4393 - val_precision: 0.8559 - val_recall: 0.8770\n",
      "Epoch 164/200\n",
      "\u001b[1m219/219\u001b[0m \u001b[32m━━━━━━━━━━━━━━━━━━━━\u001b[0m\u001b[37m\u001b[0m \u001b[1m9s\u001b[0m 39ms/step - accuracy: 0.9773 - auc: 0.9964 - loss: 0.0735 - precision: 0.9738 - recall: 0.9813 - val_accuracy: 0.8680 - val_auc: 0.9366 - val_loss: 0.4128 - val_precision: 0.8897 - val_recall: 0.8325\n",
      "Epoch 165/200\n",
      "\u001b[1m219/219\u001b[0m \u001b[32m━━━━━━━━━━━━━━━━━━━━\u001b[0m\u001b[37m\u001b[0m \u001b[1m9s\u001b[0m 39ms/step - accuracy: 0.9698 - auc: 0.9961 - loss: 0.0825 - precision: 0.9707 - recall: 0.9696 - val_accuracy: 0.8600 - val_auc: 0.9404 - val_loss: 0.4061 - val_precision: 0.8128 - val_recall: 0.9262\n",
      "Epoch 166/200\n",
      "\u001b[1m219/219\u001b[0m \u001b[32m━━━━━━━━━━━━━━━━━━━━\u001b[0m\u001b[37m\u001b[0m \u001b[1m9s\u001b[0m 39ms/step - accuracy: 0.9716 - auc: 0.9968 - loss: 0.0754 - precision: 0.9664 - recall: 0.9783 - val_accuracy: 0.8690 - val_auc: 0.9366 - val_loss: 0.3928 - val_precision: 0.8630 - val_recall: 0.8694\n",
      "Epoch 167/200\n",
      "\u001b[1m219/219\u001b[0m \u001b[32m━━━━━━━━━━━━━━━━━━━━\u001b[0m\u001b[37m\u001b[0m \u001b[1m9s\u001b[0m 39ms/step - accuracy: 0.9720 - auc: 0.9952 - loss: 0.0858 - precision: 0.9640 - recall: 0.9821 - val_accuracy: 0.8697 - val_auc: 0.9364 - val_loss: 0.4087 - val_precision: 0.8597 - val_recall: 0.8756\n",
      "Epoch 168/200\n",
      "\u001b[1m219/219\u001b[0m \u001b[32m━━━━━━━━━━━━━━━━━━━━\u001b[0m\u001b[37m\u001b[0m \u001b[1m9s\u001b[0m 39ms/step - accuracy: 0.9685 - auc: 0.9959 - loss: 0.0849 - precision: 0.9590 - recall: 0.9789 - val_accuracy: 0.8693 - val_auc: 0.9390 - val_loss: 0.3831 - val_precision: 0.8601 - val_recall: 0.8742\n",
      "Epoch 169/200\n",
      "\u001b[1m219/219\u001b[0m \u001b[32m━━━━━━━━━━━━━━━━━━━━\u001b[0m\u001b[37m\u001b[0m \u001b[1m9s\u001b[0m 40ms/step - accuracy: 0.9739 - auc: 0.9967 - loss: 0.0765 - precision: 0.9727 - recall: 0.9757 - val_accuracy: 0.8707 - val_auc: 0.9379 - val_loss: 0.3892 - val_precision: 0.8674 - val_recall: 0.8674\n",
      "Epoch 170/200\n",
      "\u001b[1m219/219\u001b[0m \u001b[32m━━━━━━━━━━━━━━━━━━━━\u001b[0m\u001b[37m\u001b[0m \u001b[1m9s\u001b[0m 40ms/step - accuracy: 0.9730 - auc: 0.9958 - loss: 0.0811 - precision: 0.9773 - recall: 0.9691 - val_accuracy: 0.8660 - val_auc: 0.9406 - val_loss: 0.4043 - val_precision: 0.8456 - val_recall: 0.8872\n",
      "Epoch 171/200\n",
      "\u001b[1m219/219\u001b[0m \u001b[32m━━━━━━━━━━━━━━━━━━━━\u001b[0m\u001b[37m\u001b[0m \u001b[1m9s\u001b[0m 39ms/step - accuracy: 0.9729 - auc: 0.9966 - loss: 0.0775 - precision: 0.9759 - recall: 0.9710 - val_accuracy: 0.8787 - val_auc: 0.9410 - val_loss: 0.3858 - val_precision: 0.8856 - val_recall: 0.8626\n",
      "Epoch 172/200\n",
      "\u001b[1m219/219\u001b[0m \u001b[32m━━━━━━━━━━━━━━━━━━━━\u001b[0m\u001b[37m\u001b[0m \u001b[1m9s\u001b[0m 39ms/step - accuracy: 0.9727 - auc: 0.9955 - loss: 0.0809 - precision: 0.9747 - recall: 0.9714 - val_accuracy: 0.8653 - val_auc: 0.9391 - val_loss: 0.3515 - val_precision: 0.8845 - val_recall: 0.8325\n",
      "Epoch 173/200\n",
      "\u001b[1m219/219\u001b[0m \u001b[32m━━━━━━━━━━━━━━━━━━━━\u001b[0m\u001b[37m\u001b[0m \u001b[1m9s\u001b[0m 39ms/step - accuracy: 0.9660 - auc: 0.9953 - loss: 0.0968 - precision: 0.9674 - recall: 0.9656 - val_accuracy: 0.8707 - val_auc: 0.9382 - val_loss: 0.3873 - val_precision: 0.8374 - val_recall: 0.9118\n",
      "Epoch 174/200\n",
      "\u001b[1m219/219\u001b[0m \u001b[32m━━━━━━━━━━━━━━━━━━━━\u001b[0m\u001b[37m\u001b[0m \u001b[1m9s\u001b[0m 39ms/step - accuracy: 0.9748 - auc: 0.9970 - loss: 0.0713 - precision: 0.9710 - recall: 0.9800 - val_accuracy: 0.8777 - val_auc: 0.9453 - val_loss: 0.3449 - val_precision: 0.8644 - val_recall: 0.8886\n",
      "Epoch 175/200\n",
      "\u001b[1m219/219\u001b[0m \u001b[32m━━━━━━━━━━━━━━━━━━━━\u001b[0m\u001b[37m\u001b[0m \u001b[1m9s\u001b[0m 39ms/step - accuracy: 0.9781 - auc: 0.9975 - loss: 0.0684 - precision: 0.9776 - recall: 0.9784 - val_accuracy: 0.8677 - val_auc: 0.9412 - val_loss: 0.3810 - val_precision: 0.8712 - val_recall: 0.8551\n",
      "Epoch 176/200\n",
      "\u001b[1m219/219\u001b[0m \u001b[32m━━━━━━━━━━━━━━━━━━━━\u001b[0m\u001b[37m\u001b[0m \u001b[1m9s\u001b[0m 40ms/step - accuracy: 0.9787 - auc: 0.9968 - loss: 0.0704 - precision: 0.9770 - recall: 0.9817 - val_accuracy: 0.8717 - val_auc: 0.9425 - val_loss: 0.3664 - val_precision: 0.8541 - val_recall: 0.8886\n",
      "Epoch 177/200\n",
      "\u001b[1m219/219\u001b[0m \u001b[32m━━━━━━━━━━━━━━━━━━━━\u001b[0m\u001b[37m\u001b[0m \u001b[1m9s\u001b[0m 40ms/step - accuracy: 0.9786 - auc: 0.9978 - loss: 0.0630 - precision: 0.9802 - recall: 0.9780 - val_accuracy: 0.8653 - val_auc: 0.9359 - val_loss: 0.4185 - val_precision: 0.8680 - val_recall: 0.8537\n",
      "Epoch 178/200\n",
      "\u001b[1m219/219\u001b[0m \u001b[32m━━━━━━━━━━━━━━━━━━━━\u001b[0m\u001b[37m\u001b[0m \u001b[1m9s\u001b[0m 40ms/step - accuracy: 0.9824 - auc: 0.9976 - loss: 0.0600 - precision: 0.9793 - recall: 0.9863 - val_accuracy: 0.8490 - val_auc: 0.9380 - val_loss: 0.3707 - val_precision: 0.7967 - val_recall: 0.9269\n",
      "Epoch 179/200\n",
      "\u001b[1m219/219\u001b[0m \u001b[32m━━━━━━━━━━━━━━━━━━━━\u001b[0m\u001b[37m\u001b[0m \u001b[1m9s\u001b[0m 39ms/step - accuracy: 0.9637 - auc: 0.9946 - loss: 0.1055 - precision: 0.9620 - recall: 0.9676 - val_accuracy: 0.8770 - val_auc: 0.9431 - val_loss: 0.3882 - val_precision: 0.8458 - val_recall: 0.9146\n",
      "Epoch 180/200\n",
      "\u001b[1m219/219\u001b[0m \u001b[32m━━━━━━━━━━━━━━━━━━━━\u001b[0m\u001b[37m\u001b[0m \u001b[1m9s\u001b[0m 40ms/step - accuracy: 0.9767 - auc: 0.9964 - loss: 0.0749 - precision: 0.9776 - recall: 0.9764 - val_accuracy: 0.8680 - val_auc: 0.9419 - val_loss: 0.3693 - val_precision: 0.8400 - val_recall: 0.9009\n",
      "Epoch 181/200\n",
      "\u001b[1m219/219\u001b[0m \u001b[32m━━━━━━━━━━━━━━━━━━━━\u001b[0m\u001b[37m\u001b[0m \u001b[1m9s\u001b[0m 40ms/step - accuracy: 0.9750 - auc: 0.9971 - loss: 0.0719 - precision: 0.9732 - recall: 0.9768 - val_accuracy: 0.8677 - val_auc: 0.9394 - val_loss: 0.4038 - val_precision: 0.8475 - val_recall: 0.8886\n",
      "Epoch 182/200\n",
      "\u001b[1m219/219\u001b[0m \u001b[32m━━━━━━━━━━━━━━━━━━━━\u001b[0m\u001b[37m\u001b[0m \u001b[1m9s\u001b[0m 41ms/step - accuracy: 0.9843 - auc: 0.9976 - loss: 0.0597 - precision: 0.9836 - recall: 0.9858 - val_accuracy: 0.8700 - val_auc: 0.9375 - val_loss: 0.4021 - val_precision: 0.8708 - val_recall: 0.8612\n",
      "Epoch 183/200\n",
      "\u001b[1m219/219\u001b[0m \u001b[32m━━━━━━━━━━━━━━━━━━━━\u001b[0m\u001b[37m\u001b[0m \u001b[1m9s\u001b[0m 40ms/step - accuracy: 0.9803 - auc: 0.9980 - loss: 0.0612 - precision: 0.9812 - recall: 0.9801 - val_accuracy: 0.8690 - val_auc: 0.9398 - val_loss: 0.4113 - val_precision: 0.8386 - val_recall: 0.9057\n",
      "Epoch 184/200\n",
      "\u001b[1m219/219\u001b[0m \u001b[32m━━━━━━━━━━━━━━━━━━━━\u001b[0m\u001b[37m\u001b[0m \u001b[1m9s\u001b[0m 40ms/step - accuracy: 0.9747 - auc: 0.9961 - loss: 0.0776 - precision: 0.9723 - recall: 0.9774 - val_accuracy: 0.8743 - val_auc: 0.9436 - val_loss: 0.3479 - val_precision: 0.8472 - val_recall: 0.9057\n",
      "Epoch 185/200\n",
      "\u001b[1m219/219\u001b[0m \u001b[32m━━━━━━━━━━━━━━━━━━━━\u001b[0m\u001b[37m\u001b[0m \u001b[1m9s\u001b[0m 40ms/step - accuracy: 0.9650 - auc: 0.9947 - loss: 0.0937 - precision: 0.9636 - recall: 0.9668 - val_accuracy: 0.8713 - val_auc: 0.9437 - val_loss: 0.3804 - val_precision: 0.8661 - val_recall: 0.8708\n",
      "Epoch 186/200\n",
      "\u001b[1m219/219\u001b[0m \u001b[32m━━━━━━━━━━━━━━━━━━━━\u001b[0m\u001b[37m\u001b[0m \u001b[1m9s\u001b[0m 39ms/step - accuracy: 0.9775 - auc: 0.9974 - loss: 0.0646 - precision: 0.9738 - recall: 0.9820 - val_accuracy: 0.8710 - val_auc: 0.9426 - val_loss: 0.3752 - val_precision: 0.8783 - val_recall: 0.8537\n",
      "Epoch 187/200\n",
      "\u001b[1m219/219\u001b[0m \u001b[32m━━━━━━━━━━━━━━━━━━━━\u001b[0m\u001b[37m\u001b[0m \u001b[1m9s\u001b[0m 40ms/step - accuracy: 0.9746 - auc: 0.9967 - loss: 0.0732 - precision: 0.9731 - recall: 0.9767 - val_accuracy: 0.8663 - val_auc: 0.9354 - val_loss: 0.4120 - val_precision: 0.8708 - val_recall: 0.8524\n",
      "Epoch 188/200\n",
      "\u001b[1m219/219\u001b[0m \u001b[32m━━━━━━━━━━━━━━━━━━━━\u001b[0m\u001b[37m\u001b[0m \u001b[1m9s\u001b[0m 42ms/step - accuracy: 0.9713 - auc: 0.9954 - loss: 0.0832 - precision: 0.9702 - recall: 0.9720 - val_accuracy: 0.8750 - val_auc: 0.9447 - val_loss: 0.3657 - val_precision: 0.8617 - val_recall: 0.8859\n",
      "Epoch 189/200\n",
      "\u001b[1m219/219\u001b[0m \u001b[32m━━━━━━━━━━━━━━━━━━━━\u001b[0m\u001b[37m\u001b[0m \u001b[1m9s\u001b[0m 41ms/step - accuracy: 0.9812 - auc: 0.9974 - loss: 0.0637 - precision: 0.9778 - recall: 0.9851 - val_accuracy: 0.8707 - val_auc: 0.9428 - val_loss: 0.3841 - val_precision: 0.8699 - val_recall: 0.8640\n",
      "Epoch 190/200\n",
      "\u001b[1m219/219\u001b[0m \u001b[32m━━━━━━━━━━━━━━━━━━━━\u001b[0m\u001b[37m\u001b[0m \u001b[1m9s\u001b[0m 40ms/step - accuracy: 0.9762 - auc: 0.9961 - loss: 0.0745 - precision: 0.9773 - recall: 0.9750 - val_accuracy: 0.8713 - val_auc: 0.9422 - val_loss: 0.3955 - val_precision: 0.8626 - val_recall: 0.8756\n",
      "Epoch 191/200\n",
      "\u001b[1m219/219\u001b[0m \u001b[32m━━━━━━━━━━━━━━━━━━━━\u001b[0m\u001b[37m\u001b[0m \u001b[1m9s\u001b[0m 40ms/step - accuracy: 0.9832 - auc: 0.9978 - loss: 0.0550 - precision: 0.9823 - recall: 0.9845 - val_accuracy: 0.8710 - val_auc: 0.9394 - val_loss: 0.3958 - val_precision: 0.8832 - val_recall: 0.8476\n",
      "Epoch 192/200\n",
      "\u001b[1m219/219\u001b[0m \u001b[32m━━━━━━━━━━━━━━━━━━━━\u001b[0m\u001b[37m\u001b[0m \u001b[1m10s\u001b[0m 44ms/step - accuracy: 0.9821 - auc: 0.9974 - loss: 0.0626 - precision: 0.9815 - recall: 0.9827 - val_accuracy: 0.8727 - val_auc: 0.9415 - val_loss: 0.3953 - val_precision: 0.8740 - val_recall: 0.8633\n",
      "Epoch 193/200\n",
      "\u001b[1m219/219\u001b[0m \u001b[32m━━━━━━━━━━━━━━━━━━━━\u001b[0m\u001b[37m\u001b[0m \u001b[1m9s\u001b[0m 41ms/step - accuracy: 0.9803 - auc: 0.9978 - loss: 0.0608 - precision: 0.9802 - recall: 0.9805 - val_accuracy: 0.8750 - val_auc: 0.9407 - val_loss: 0.3963 - val_precision: 0.8726 - val_recall: 0.8708\n",
      "Epoch 194/200\n",
      "\u001b[1m219/219\u001b[0m \u001b[32m━━━━━━━━━━━━━━━━━━━━\u001b[0m\u001b[37m\u001b[0m \u001b[1m9s\u001b[0m 43ms/step - accuracy: 0.9813 - auc: 0.9971 - loss: 0.0651 - precision: 0.9800 - recall: 0.9829 - val_accuracy: 0.8600 - val_auc: 0.9414 - val_loss: 0.3934 - val_precision: 0.8201 - val_recall: 0.9132\n",
      "Epoch 195/200\n",
      "\u001b[1m219/219\u001b[0m \u001b[32m━━━━━━━━━━━━━━━━━━━━\u001b[0m\u001b[37m\u001b[0m \u001b[1m9s\u001b[0m 42ms/step - accuracy: 0.9724 - auc: 0.9960 - loss: 0.0820 - precision: 0.9709 - recall: 0.9742 - val_accuracy: 0.8710 - val_auc: 0.9394 - val_loss: 0.4016 - val_precision: 0.8660 - val_recall: 0.8701\n",
      "Epoch 196/200\n",
      "\u001b[1m219/219\u001b[0m \u001b[32m━━━━━━━━━━━━━━━━━━━━\u001b[0m\u001b[37m\u001b[0m \u001b[1m9s\u001b[0m 43ms/step - accuracy: 0.9815 - auc: 0.9981 - loss: 0.0555 - precision: 0.9802 - recall: 0.9841 - val_accuracy: 0.8630 - val_auc: 0.9385 - val_loss: 0.4119 - val_precision: 0.8967 - val_recall: 0.8127\n",
      "Epoch 197/200\n",
      "\u001b[1m219/219\u001b[0m \u001b[32m━━━━━━━━━━━━━━━━━━━━\u001b[0m\u001b[37m\u001b[0m \u001b[1m9s\u001b[0m 41ms/step - accuracy: 0.9827 - auc: 0.9976 - loss: 0.0615 - precision: 0.9849 - recall: 0.9806 - val_accuracy: 0.8657 - val_auc: 0.9393 - val_loss: 0.4216 - val_precision: 0.8389 - val_recall: 0.8968\n",
      "Epoch 198/200\n",
      "\u001b[1m219/219\u001b[0m \u001b[32m━━━━━━━━━━━━━━━━━━━━\u001b[0m\u001b[37m\u001b[0m \u001b[1m9s\u001b[0m 42ms/step - accuracy: 0.9785 - auc: 0.9975 - loss: 0.0601 - precision: 0.9740 - recall: 0.9842 - val_accuracy: 0.8713 - val_auc: 0.9407 - val_loss: 0.4030 - val_precision: 0.8838 - val_recall: 0.8476\n",
      "Epoch 199/200\n",
      "\u001b[1m219/219\u001b[0m \u001b[32m━━━━━━━━━━━━━━━━━━━━\u001b[0m\u001b[37m\u001b[0m \u001b[1m9s\u001b[0m 43ms/step - accuracy: 0.9853 - auc: 0.9989 - loss: 0.0467 - precision: 0.9849 - recall: 0.9863 - val_accuracy: 0.8713 - val_auc: 0.9403 - val_loss: 0.3921 - val_precision: 0.8631 - val_recall: 0.8749\n",
      "Epoch 200/200\n",
      "\u001b[1m219/219\u001b[0m \u001b[32m━━━━━━━━━━━━━━━━━━━━\u001b[0m\u001b[37m\u001b[0m \u001b[1m10s\u001b[0m 44ms/step - accuracy: 0.9820 - auc: 0.9981 - loss: 0.0564 - precision: 0.9773 - recall: 0.9874 - val_accuracy: 0.8690 - val_auc: 0.9378 - val_loss: 0.4231 - val_precision: 0.8877 - val_recall: 0.8373\n"
     ]
    }
   ],
   "source": [
    "# Train the LSTM model with Word2Vec embeddings\n",
    "history_word2vec = lstm_model_word2vec.fit(X_train, y_train, validation_data=(X_val, y_val), epochs=200, batch_size=32)\n"
   ]
  },
  {
   "cell_type": "code",
   "execution_count": 25,
   "id": "31bce104-2fad-4ecc-8de8-ea4d20e374b1",
   "metadata": {
    "id": "31bce104-2fad-4ecc-8de8-ea4d20e374b1"
   },
   "outputs": [],
   "source": [
    "X_train_pad, X_temp_pad, y_train, y_temp = train_test_split(X_pad, y, test_size=0.3, random_state=42)\n",
    "X_val_pad, X_test_pad, y_val, y_test = train_test_split(X_temp_pad, y_temp, test_size=0.5, random_state=42)"
   ]
  },
  {
   "cell_type": "code",
   "execution_count": 26,
   "id": "5fb2aafd-4546-469a-bee8-ece4fcc8b11e",
   "metadata": {
    "id": "5fb2aafd-4546-469a-bee8-ece4fcc8b11e"
   },
   "outputs": [],
   "source": [
    "from sklearn.metrics import accuracy_score, classification_report, confusion_matrix, roc_curve, auc"
   ]
  },
  {
   "cell_type": "code",
   "execution_count": 27,
   "id": "1776c2cb-f62f-4b1c-8ab9-10a5f8682f1c",
   "metadata": {
    "id": "1776c2cb-f62f-4b1c-8ab9-10a5f8682f1c",
    "outputId": "77bbce63-9da0-4527-d5ce-c96ec6215a1f"
   },
   "outputs": [
    {
     "name": "stdout",
     "output_type": "stream",
     "text": [
      "\u001b[1m47/47\u001b[0m \u001b[32m━━━━━━━━━━━━━━━━━━━━\u001b[0m\u001b[37m\u001b[0m \u001b[1m2s\u001b[0m 26ms/step\n",
      "LSTM Model Test Accuracy: 0.87\n",
      "              precision    recall  f1-score   support\n",
      "\n",
      "           0       0.85      0.90      0.88       767\n",
      "           1       0.89      0.84      0.86       733\n",
      "\n",
      "    accuracy                           0.87      1500\n",
      "   macro avg       0.87      0.87      0.87      1500\n",
      "weighted avg       0.87      0.87      0.87      1500\n",
      "\n"
     ]
    }
   ],
   "source": [
    "# Evaluate the LSTM model on the test set\n",
    "y_pred_nn = (lstm_model_word2vec.predict(X_test_pad) > 0.5).astype(int)\n",
    "print(f\"LSTM Model Test Accuracy: {accuracy_score(y_test, y_pred_nn):.2f}\")\n",
    "print(classification_report(y_test, y_pred_nn))"
   ]
  },
  {
   "cell_type": "code",
   "execution_count": 28,
   "id": "4308bb08-2455-4ea2-b4e4-0f3bb76b7e43",
   "metadata": {
    "id": "4308bb08-2455-4ea2-b4e4-0f3bb76b7e43",
    "outputId": "c52f0978-73cb-4da8-e118-f1a5fe143dee"
   },
   "outputs": [
    {
     "name": "stdout",
     "output_type": "stream",
     "text": [
      "\u001b[1m47/47\u001b[0m \u001b[32m━━━━━━━━━━━━━━━━━━━━\u001b[0m\u001b[37m\u001b[0m \u001b[1m1s\u001b[0m 14ms/step\n",
      "LSTM Model Test Accuracy: 0.87\n",
      "              precision    recall  f1-score   support\n",
      "\n",
      "           0       0.85      0.90      0.88       767\n",
      "           1       0.89      0.84      0.86       733\n",
      "\n",
      "    accuracy                           0.87      1500\n",
      "   macro avg       0.87      0.87      0.87      1500\n",
      "weighted avg       0.87      0.87      0.87      1500\n",
      "\n"
     ]
    }
   ],
   "source": [
    "# Evaluate the LSTM model on the test set\n",
    "y_pred_nn = (lstm_model_word2vec.predict(X_test_pad) > 0.5).astype(int)\n",
    "print(f\"LSTM Model Test Accuracy: {accuracy_score(y_test, y_pred_nn):.2f}\")\n",
    "print(classification_report(y_test, y_pred_nn))"
   ]
  },
  {
   "cell_type": "code",
   "execution_count": 29,
   "id": "dc22e1a4-1cf5-465f-b144-7befdb136425",
   "metadata": {
    "id": "dc22e1a4-1cf5-465f-b144-7befdb136425",
    "outputId": "26b9a287-e9a0-48ad-de70-648a8c65d679"
   },
   "outputs": [
    {
     "data": {
      "image/png": "[encoded data removed]",
      "text/plain": [
       "<Figure size 800x600 with 1 Axes>"
      ]
     },
     "metadata": {},
     "output_type": "display_data"
    }
   ],
   "source": [
    "# Confusion Matrix\n",
    "cm = confusion_matrix(y_test, y_pred_nn)\n",
    "plt.figure(figsize=(8, 6))\n",
    "sns.heatmap(cm, annot=True, fmt='d', cmap='Blues', cbar=False)\n",
    "plt.xlabel('Predicted labels')\n",
    "plt.ylabel('True labels')\n",
    "plt.title('Confusion Matrix')\n",
    "plt.show()"
   ]
  },
  {
   "cell_type": "code",
   "execution_count": 30,
   "id": "37901504-8976-4059-92ca-430f68a98fbe",
   "metadata": {
    "id": "37901504-8976-4059-92ca-430f68a98fbe",
    "outputId": "bce838f7-e39a-4556-8d1c-4b53a33cdbce"
   },
   "outputs": [
    {
     "data": {
      "image/png": "[encoded data removed]",
      "text/plain": [
       "<Figure size 640x480 with 1 Axes>"
      ]
     },
     "metadata": {},
     "output_type": "display_data"
    }
   ],
   "source": [
    "# Plot training history\n",
    "plt.plot(history_word2vec.history['loss'], label='Train Loss')\n",
    "plt.plot(history_word2vec.history['val_loss'], label='Validation Loss')\n",
    "plt.xlabel('Epochs')\n",
    "plt.ylabel('Loss')\n",
    "plt.legend()\n",
    "plt.title('Training and Validation Loss')\n",
    "plt.show()\n"
   ]
  },
  {
   "cell_type": "code",
   "execution_count": 31,
   "id": "1df72df7-2cf1-47bb-9af5-c6562b1069ac",
   "metadata": {
    "id": "1df72df7-2cf1-47bb-9af5-c6562b1069ac",
    "outputId": "7c97ce96-edd2-40c7-e324-175b059c7278"
   },
   "outputs": [
    {
     "name": "stdout",
     "output_type": "stream",
     "text": [
      "\u001b[1m47/47\u001b[0m \u001b[32m━━━━━━━━━━━━━━━━━━━━\u001b[0m\u001b[37m\u001b[0m \u001b[1m1s\u001b[0m 16ms/step - accuracy: 0.8652 - auc: 0.9373 - loss: 0.4223 - precision: 0.8897 - recall: 0.8266\n",
      "Test Loss: 0.4223467707633972\n",
      "Test Accuracy: 0.8700000047683716\n",
      "Test Recall: 0.8898550868034363\n",
      "Test Precision: 0.8376534581184387\n",
      "Test AUC: 0.9381512999534607\n"
     ]
    }
   ],
   "source": [
    "# ROC-AUC\n",
    "test_loss, test_acc, test_recall, test_precision, test_auc = lstm_model_word2vec.evaluate(X_test_pad, y_test)\n",
    "print(\"Test Loss:\", test_loss)\n",
    "print(\"Test Accuracy:\", test_acc)\n",
    "print(\"Test Recall:\", test_recall)\n",
    "print(\"Test Precision:\", test_precision)\n",
    "print(\"Test AUC:\", test_auc)\n",
    "\n"
   ]
  },
  {
   "cell_type": "code",
   "execution_count": 32,
   "id": "9dba0c90-5a80-49da-83c0-a75552400ee4",
   "metadata": {
    "id": "9dba0c90-5a80-49da-83c0-a75552400ee4",
    "outputId": "b6d4369a-2961-47e7-a3ee-ab114515f0b2"
   },
   "outputs": [
    {
     "name": "stdout",
     "output_type": "stream",
     "text": [
      "\u001b[1m47/47\u001b[0m \u001b[32m━━━━━━━━━━━━━━━━━━━━\u001b[0m\u001b[37m\u001b[0m \u001b[1m1s\u001b[0m 16ms/step\n",
      "Test ROC-AUC: 0.9413423074255041\n"
     ]
    }
   ],
   "source": [
    "y_pred_proba = lstm_model_word2vec.predict(X_test_pad)\n",
    "fpr, tpr, thresholds = roc_curve(y_test, y_pred_proba)\n",
    "roc_auc_value = auc(fpr, tpr)\n",
    "print(\"Test ROC-AUC:\", roc_auc_value)\n"
   ]
  },
  {
   "cell_type": "code",
   "execution_count": 33,
   "id": "82d42f9b-fc52-4c69-9a52-f981bf768fc2",
   "metadata": {
    "id": "82d42f9b-fc52-4c69-9a52-f981bf768fc2",
    "outputId": "cee2c9cf-f1c6-4b82-ba57-e06db6d7aa78"
   },
   "outputs": [
    {
     "name": "stderr",
     "output_type": "stream",
     "text": [
      "WARNING:absl:You are saving your model as an HDF5 file via `model.save()` or `keras.saving.save_model(model)`. This file format is considered legacy. We recommend using instead the native Keras format, e.g. `model.save('my_model.keras')` or `keras.saving.save_model(model, 'my_model.keras')`. \n"
     ]
    }
   ],
   "source": [
    "lstm_model_word2vec.save('lstm_model_word2vec_FINAL00.h5')"
   ]
  },
  {
   "cell_type": "code",
   "execution_count": 34,
   "id": "5568cdab-3cf1-4508-b218-405b1b480df4",
   "metadata": {
    "id": "5568cdab-3cf1-4508-b218-405b1b480df4"
   },
   "outputs": [],
   "source": [
    "import keras"
   ]
  },
  {
   "cell_type": "code",
   "execution_count": 35,
   "id": "9f93236b-a97e-42c6-a9bc-071de49fd0d8",
   "metadata": {
    "id": "9f93236b-a97e-42c6-a9bc-071de49fd0d8"
   },
   "outputs": [],
   "source": [
    "keras.saving.save_model(lstm_model_word2vec, 'word2vec_FINAL0.keras')"
   ]
  },
  {
   "cell_type": "code",
   "execution_count": null,
   "id": "42d899f5-2b9a-4edc-bd7c-4cdd83a308a6",
   "metadata": {
    "id": "42d899f5-2b9a-4edc-bd7c-4cdd83a308a6"
   },
   "outputs": [],
   "source": []
  }
 ],
 "metadata": {
  "accelerator": "GPU",
  "colab": {
   "gpuType": "T4",
   "provenance": []
  },
  "kernelspec": {
   "display_name": "Python 3 (ipykernel)",
   "language": "python",
   "name": "python3"
  },
  "language_info": {
   "codemirror_mode": {
    "name": "ipython",
    "version": 3
   },
   "file_extension": ".py",
   "mimetype": "text/x-python",
   "name": "python",
   "nbconvert_exporter": "python",
   "pygments_lexer": "ipython3",
   "version": "3.11.7"
  }
 },
 "nbformat": 4,
 "nbformat_minor": 5
}
